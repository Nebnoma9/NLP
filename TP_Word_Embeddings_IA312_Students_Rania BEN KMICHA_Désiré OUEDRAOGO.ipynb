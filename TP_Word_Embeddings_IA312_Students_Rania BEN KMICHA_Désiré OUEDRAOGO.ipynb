{
 "cells": [
  {
   "attachments": {},
   "cell_type": "markdown",
   "metadata": {},
   "source": [
    "### Authors : Rania BEN KMICHA , Désiré OUEDRAOGO "
   ]
  },
  {
   "cell_type": "code",
   "execution_count": 1,
   "metadata": {},
   "outputs": [],
   "source": [
    "# Contrôle de version\n",
    "import sys\n",
    "assert sys.version_info[0]==3\n",
    "assert sys.version_info[1] >= 5\n",
    "\n",
    "# Packages nécessaires\n",
    "import numpy as np\n",
    "import os\n",
    "import re\n",
    "import matplotlib.pyplot as plt\n",
    "# A la première utilisation de nltk, télécharger les données nécessaires\n",
    "import nltk\n",
    "#nltk.download('punkt')"
   ]
  },
  {
   "cell_type": "markdown",
   "metadata": {},
   "source": [
    "## Dense Representations \n",
    "\n",
    "### Word Embeddings : Distributed representations via the distributional hypothesis \n",
    "\n",
    "**Goal**: We will try to obtain dense representations (as vectors of real numbers) of words (and possibly sentences). These representations are intended to be distributed: they are non-local representations. We represent an object as a combination of *features*, as opposed to the attribution of a dedicated symbol: see the founding work of Geoffrey Hinton, among others, on the subject: [Distributed Representations](https://web.stanford.edu/~jlmcc/papers/PDP/Chapter3.pdf).\n",
    "\n",
    "The term *distributed* representations is very general, but is what we are looking for. The challenge is therefore to be able to build, automatically, such representations.\n",
    "\n",
    "**Underlying idea**: It is based on the distributional hypothesis: contextual information is sufficient to obtain a viable representation of linguistic objects.\n",
    " - For a large class of cases [...] the meaning of a word is its use in the language.\" Wittgenstein (Philosophical Investigations, 43 - 1953)\n",
    " - You shall know a word by the company it keeps, Firth.\n",
    "\n",
    "Thus, a word can be characterized by the words that accompany it, via co-occurrence counts. Two words with a similar meaning will have a similar contextual distribution and are therefore more likely to appear in similar contexts. This hypothesis can be used as a justification for the application of statistics to semantics (information extraction, semantic analysis). It also allows some form of generalization: we can assume that the information we have about a word will be generalized to words with a similar distribution. \n",
    "\n",
    "**Motivation**: The goal is to obtain distributed representations in order to be able to effectively**:\n",
    "- Directly perform a semantic surface analysis.\n",
    "- Use it as a source of information for other language-related models and applications, especially for sentiment analysis. \n",
    "\n",
    "\n",
    "**Terminology**: Be careful not to confuse the idea of *distributed* and *distributional* representation. The latter generally indicates (for words) that the representation has been obtained strictly from co-occurrence counts, whereas additional information (document labels, part of speech tags, ...) can be used to build distributed representations. \n",
    "The models that allow to build these dense representations, in the form of vectors, are often called *vector spaces models*. These representations are also regularly called *word embeddings*, because the words are embedded in a vector space. In French, we often find the term *word embedding* or *lexical embedding*."
   ]
  },
  {
   "cell_type": "markdown",
   "metadata": {},
   "source": [
    "### Getting representations: counts of occurrences and co-occurrences\n",
    "\n",
    "Depending on the type of corpus available, different types of distributional information can be obtained. If we have access to a collection of documents, we can thus choose to count the number of occurrences of each word in each document, to obtain a $words \\times documents$ matrix: it is on this principle that **Tf-Idf** is built. We will now look at a more general case: we have a large amount of data in text form, and we want to obtain representations of words in the form of vectors of reduced size, without the need to divide them into documents or categories. \n",
    "\n",
    "Suppose we have a corpus containing $T$ different words. We will construct a $\\mathbf{M}$ matrix of size $T \\times T$ which will contain the number of co-occurrences between words. There will be different factors to consider when constructing this matrix: \n",
    "\n",
    "- How do you define the 'context' of a word - context which will tell you what terms co-occur with that word?\n",
    "\n",
    "We can choose to use different scales: the document, the sentence, the nominal group, or simply a window of $k$ words, depending on the information we want to capture.\n",
    "\n",
    "\n",
    "- How do we quantify the importance of the counts? \n",
    "\n",
    "$\\rightarrow$ For example, we can give a decreasing weight to a co-occurrence according to the distance between the two words concerned ($\\frac{1}{d+1}$ for a separation by $d$ words).\n",
    "\n",
    "\n",
    "- Should we keep all the words that appear in the corpus? \n",
    "\n",
    "$\\rightarrow$ Usually not. We will see that for large corpora, the number $T$ of different words is huge. Second, even if the number of words is reasonable, we will have very little distributional information on the rarest words, and the representation obtained will be of poor quality. We will have to ask ourselves how to filter these words, and how to treat the words we choose not to represent.  "
   ]
  },
  {
   "cell_type": "markdown",
   "metadata": {},
   "source": [
    "#### Example:\n",
    "\n",
    "Let's look at the following text:\n",
    "\n",
    "*I walked down down the boulevard. I walked down the avenue. I ran down the boulevard. I walk down the city. I walk down the the avenue.*\n",
    "\n",
    "We choose to define the context of a word as the sentence to which it belongs, and to not use any weighting.\n",
    "We obtain the following matrix: \n",
    "\n",
    "|     *         | I | the | down | walked | boulevard | avenue | walk | ran | city |\n",
    "|---------------|---|-----|------|--------|-----------|--------|------|-----|------|\n",
    "| I             | 0 |      6 |    6 |   2 |         2 |      2 |   2 |    1 |    1 |\n",
    "| the           | 6 |      2 |    7 |   2 |         2 |      3 |   3 |    1 |    1 |\n",
    "| down          | 6 |      7 |    2 |   3 |         3 |      2 |   2 |    1 |    1 |\n",
    "| walked        | 2 |      2 |    3 |   0 |         1 |      1 |   0 |    0 |    0 |\n",
    "| boulevard     | 2 |      2 |    3 |   1 |         0 |      0 |   0 |    1 |    0 |\n",
    "| avenue        | 2 |      3 |    2 |   1 |         0 |      0 |   1 |    0 |    0 |\n",
    "| ran           | 2 |      3 |    2 |   0 |         0 |      1 |   0 |    0 |    1 |\n",
    "| walk          | 1 |      1 |    1 |   0 |         1 |      0 |   0 |    0 |    0 |\n",
    "| city          | 1 |      1 |    1 |   0 |         0 |      0 |   1 |    0 |    1 |"
   ]
  },
  {
   "cell_type": "code",
   "execution_count": 2,
   "metadata": {},
   "outputs": [],
   "source": [
    "def clean_and_tokenize(text):\n",
    "    \"\"\"\n",
    "    Cleaning a document with:\n",
    "        - Lowercase        \n",
    "        - Removing numbers with regular expressions\n",
    "        - Removing punctuation with regular expressions\n",
    "        - Removing other artifacts\n",
    "    And separate the document into words by simply splitting at spaces\n",
    "    Params:\n",
    "        text (string): a sentence or a document\n",
    "    Returns:\n",
    "        tokens (list of strings): the list of tokens (word units) forming the document\n",
    "    \"\"\"        \n",
    "    # Lowercase\n",
    "    text = text.lower()\n",
    "    # Remove numbers\n",
    "    text = re.sub(r\"[0-9]+\", \"\", text)\n",
    "    # Remove punctuation\n",
    "    REMOVE_PUNCT = re.compile(\"[.;:!\\'?,\\\"()\\[\\]]\")\n",
    "    text = REMOVE_PUNCT.sub(\"\", text)\n",
    "    # Remove HTML artifacts specific to the corpus we're going to work with\n",
    "    REPLACE_HTML = re.compile(\"(<br\\s*/><br\\s*/>)|(\\-)|(\\/)\")\n",
    "    text = REPLACE_HTML.sub(\" \", text)\n",
    "    \n",
    "    tokens = text.split()        \n",
    "    return tokens"
   ]
  },
  {
   "cell_type": "markdown",
   "metadata": {},
   "source": [
    "### In practice: get a Vocabulary.\n",
    "\n",
    "To begin, we will implement separately a function returning the vocabulary. Here we will have to be able to control its size, by indicating a maximum number of words. We add, at the end, an \"unknown\" word that will replace all the words that do not appear in our \"limited\" vocabulary. \n",
    "\n",
    "**Remarks:**\n",
    "- Use tokenization to obtain words from a document !\n",
    "- Add a special token ```<UNK>``` to deal with out-of-vocabulary words: even if you don't put a limit, you might encounter new words when working with new data. \n",
    "- You need to count words and sort them by frequency in order to only keep the most frequent ones. It is not necessary to count 'unknown' words. \n",
    "<div class='alert alert-block alert-info'>\n",
    "            Code:</div>"
   ]
  },
  {
   "cell_type": "code",
   "execution_count": 42,
   "metadata": {},
   "outputs": [],
   "source": [
    "def vocabulary(corpus, count_threshold=5, voc_threshold=0):\n",
    "    \"\"\"    \n",
    "    Function using word counts to build a vocabulary\n",
    "    Params:\n",
    "        corpus (list of list of strings): corpus of sentences\n",
    "        count_threshold (int): number of occurences necessary for a word to be included in the vocabulary\n",
    "        voc_threshold (int): maximum size of the vocabulary - 0 (default) indicates there is no max\n",
    "    Returns:\n",
    "        vocabulary (dictionary): keys: list of distinct words across the corpus\n",
    "                                 values: indexes corresponding to each word sorted by frequency \n",
    "        vocabulary_word_counts (dictionary): keys: list of distinct words across the corpus\n",
    "                                             values: word counts in the corpus\n",
    "    \"\"\"\n",
    "    n_samples = len(corpus)\n",
    "    word_counts = {}\n",
    "    words = []\n",
    "    for text in corpus:\n",
    "        words += list(clean_and_tokenize(text)) # list of all words\n",
    "    for word in words:\n",
    "        if word not in word_counts.keys():\n",
    "            word_counts[word] = 1\n",
    "        else:\n",
    "            word_counts[word] += 1\n",
    "    #sorted()\n",
    "    word_counts = {k: v for k, v in sorted(word_counts.items(), key=lambda item: item[1], reverse=True)} \n",
    "    filtered_word_counts={}\n",
    "    for k,v in word_counts.items():\n",
    "        if voc_threshold > 0 :\n",
    "            if v>=count_threshold and len(filtered_word_counts.keys()) < voc_threshold:\n",
    "                filtered_word_counts[k] = v\n",
    "        else :\n",
    "            if v>=count_threshold:\n",
    "                filtered_word_counts[k] = v\n",
    "       \n",
    "    vocabulary = {}\n",
    "    vocabulary_word_counts = filtered_word_counts\n",
    "    vocabulary_word_counts['UNK']=0\n",
    "    voc = list(vocabulary_word_counts.keys())\n",
    "    vocabulary = dict(zip(voc, range(len(voc))))  \n",
    "    \n",
    "    return vocabulary, vocabulary_word_counts"
   ]
  },
  {
   "cell_type": "code",
   "execution_count": 4,
   "metadata": {},
   "outputs": [
    {
     "name": "stdout",
     "output_type": "stream",
     "text": [
      "{'down': 0, 'the': 1, 'i': 2, 'walked': 3, 'boulevard': 4, 'avenue': 5, 'walk': 6, 'ran': 7, 'city': 8, 'UNK': 9}\n",
      "{'down': 6, 'the': 6, 'i': 5, 'walked': 2, 'boulevard': 2, 'avenue': 2, 'walk': 2, 'ran': 1, 'city': 1, 'UNK': 0}\n",
      "{'down': 0, 'the': 1, 'i': 2, 'walked': 3, 'boulevard': 4, 'avenue': 5, 'walk': 6, 'ran': 7, 'city': 8, 'UNK': 9}\n",
      "{'down': 6, 'the': 6, 'i': 5, 'walked': 2, 'boulevard': 2, 'avenue': 2, 'walk': 2, 'ran': 1, 'city': 1, 'UNK': 0}\n"
     ]
    }
   ],
   "source": [
    "# Example for testing:\n",
    "\n",
    "corpus = ['I walked down down the boulevard',\n",
    "          'I walked down the avenue',\n",
    "          'I ran down the boulevard',\n",
    "          'I walk down the city',\n",
    "          'I walk down the the avenue']\n",
    "\n",
    "voc, counts = vocabulary(corpus, count_threshold = 3)\n",
    "print(voc)\n",
    "print(counts)\n",
    "\n",
    "# We expect something like this:\n",
    "#  {'down': 0, 'the': 1, 'i': 2, 'UNK': 3}\n",
    "#  {'down': 6, 'the': 6, 'i': 5, 'UNK': 0}\n",
    "\n",
    "voc, counts = vocabulary(corpus, count_threshold = 0)\n",
    "print(voc)\n",
    "print(counts)\n",
    "\n",
    "# We expect something like this:\n",
    "#  {'down': 0, 'the': 1, 'i': 2, 'walked': 3, 'boulevard': 4, 'avenue': 5, 'walk': 6, 'ran': 7, 'city': 8, 'UNK': 9}\n",
    "#  {'down': 6, 'the': 6, 'i': 5, 'walked': 2, 'boulevard': 2, 'avenue': 2, 'walk': 2, 'ran': 1, 'city': 1, 'UNK': 0}"
   ]
  },
  {
   "cell_type": "markdown",
   "metadata": {},
   "source": [
    "### 3.B Obtaining co-occurences:\n",
    "\n",
    "The function takes as input the corpus (a list of strings, corresponding to documents/sentences) and a vocabulary, as well as the size of the context window. We can also implement the simplest solution: the context of a word being the full document to which it belongs. \n",
    "Finally, we can implement the possibility of making linearly decrease the importance of the context of a word when getting further from the input word.\n",
    "\n",
    "**Remark:**\n",
    "- The matrix we are building is symmetric: we can only build half of it !\n",
    "<div class='alert alert-block alert-info'>\n",
    "            Code:</div>"
   ]
  },
  {
   "cell_type": "code",
   "execution_count": 5,
   "metadata": {},
   "outputs": [],
   "source": [
    "def co_occurence_matrix(corpus, vocabulary, window=0, distance_weighting=False):\n",
    "    \"\"\"\n",
    "    Params:\n",
    "        corpus (list of list of strings): corpus of sentences\n",
    "        vocabulary (dictionary): words to use in the matrix\n",
    "        window (int): size of the context window; when 0, the context is the whole sentence\n",
    "        distance_weighting (bool): indicates if we use a weight depending on the distance between words for co-oc counts\n",
    "    Returns:\n",
    "        matrix (array of size (len(vocabulary), len(vocabulary))): the co-oc matrix, using the same ordering as the vocabulary given in input    \n",
    "    \"\"\" \n",
    "    l = len(vocabulary)\n",
    "    M = np.zeros((l,l))\n",
    "    for sent in corpus:\n",
    "        # Obtenir la phrase:\n",
    "        sent = clean_and_tokenize(sent)\n",
    "        # Obtenir les indexs de la phrase grace au vocabulaire: \n",
    "        sent_idx = []\n",
    "        for word in sent:\n",
    "            if vocabulary.get(word) != None : \n",
    "                sent_idx.append(vocabulary.get(word))\n",
    "            else:\n",
    "                sent_idx.append(vocabulary.get('UNK'))\n",
    "        # Parcourir les indexs de la phrase et ajouter 1 / dist(i,j) à M[i,j] si les mots d'index i et j apparaissent dans la même fenêtre. \n",
    "        for i, idx_i in enumerate(sent_idx):\n",
    "            # On vérifie que le mot est reconnu par le vocabulaire:\n",
    "            if idx_i > -1:\n",
    "                # Si on considère un contexte limité:\n",
    "                if window > 0:\n",
    "                    # On crée une liste qui contient les indexs de la fenêtre à gauche de l'index courant 'idx_i'\n",
    "                    l_ctx_idx = [sent_idx[j] for j in range(max(0,i - window),i)]\n",
    "                    # A compléter\n",
    "                    \n",
    "                # Si on considère que le contexte est la phrase entière:\n",
    "                else:\n",
    "                    # La liste qui contient le contexte à gauche du mot est plus facile à créer:\n",
    "                    l_ctx_idx = sent_idx[:i]\n",
    "                    # A compléter\n",
    "                # On parcourt cette liste et on update M[i,j]:    \n",
    "                for j, idx_j in enumerate(l_ctx_idx):\n",
    "                    # ... en s'assurant que le mot correspondant à 'idx_j' est reconnu par le vocabulaire\n",
    "                    if idx_j > -1:\n",
    "                        # Calcul du poids:\n",
    "                        if distance_weighting:\n",
    "                            weight = 1.0 \n",
    "                            # A compléter *\n",
    "                            if i-j != 0:\n",
    "                               weight = 1/abs(i-j)\n",
    "                        else:\n",
    "                            weight = 1.0\n",
    "                        M[idx_i, idx_j] += weight * 1.0\n",
    "                        M[idx_j, idx_i] += weight * 1.0\n",
    "    return M  "
   ]
  },
  {
   "cell_type": "code",
   "execution_count": 6,
   "metadata": {},
   "outputs": [
    {
     "name": "stdout",
     "output_type": "stream",
     "text": [
      "[[2. 7. 6. 3. 3. 2. 2. 1. 1. 0.]\n",
      " [7. 2. 6. 2. 2. 3. 3. 1. 1. 0.]\n",
      " [6. 6. 0. 2. 2. 2. 2. 1. 1. 0.]\n",
      " [3. 2. 2. 0. 1. 1. 0. 0. 0. 0.]\n",
      " [3. 2. 2. 1. 0. 0. 0. 1. 0. 0.]\n",
      " [2. 3. 2. 1. 0. 0. 1. 0. 0. 0.]\n",
      " [2. 3. 2. 0. 0. 1. 0. 0. 1. 0.]\n",
      " [1. 1. 1. 0. 1. 0. 0. 0. 0. 0.]\n",
      " [1. 1. 1. 0. 0. 0. 1. 0. 0. 0.]\n",
      " [0. 0. 0. 0. 0. 0. 0. 0. 0. 0.]]\n"
     ]
    }
   ],
   "source": [
    "print(co_occurence_matrix(corpus, voc, 0, False))"
   ]
  },
  {
   "cell_type": "markdown",
   "metadata": {},
   "source": [
    "### 3.C Application to a real data set\n",
    "\n",
    "We're going to work with the **imdb** data."
   ]
  },
  {
   "cell_type": "code",
   "execution_count": 7,
   "metadata": {},
   "outputs": [
    {
     "name": "stdout",
     "output_type": "stream",
     "text": [
      "25000 documents\n"
     ]
    },
    {
     "name": "stderr",
     "output_type": "stream",
     "text": [
      "C:\\Users\\ouedr\\AppData\\Local\\Temp\\ipykernel_20320\\3405308050.py:11: DeprecationWarning: `np.int` is a deprecated alias for the builtin `int`. To silence this warning, use `int` by itself. Doing this will not modify any behavior and is safe. When replacing `np.int`, you may wish to use e.g. `np.int64` or `np.int32` to specify the precision. If you wish to review your current use, check the release note link for additional information.\n",
      "Deprecated in NumPy 1.20; for more details and guidance: https://numpy.org/devdocs/release/1.20.0-notes.html#deprecations\n",
      "  y = np.ones(len(texts), dtype=np.int)\n"
     ]
    }
   ],
   "source": [
    "from glob import glob\n",
    "filenames_neg = sorted(glob(os.path.join('.', 'aclImdb', 'train', 'neg', '*.txt')))\n",
    "filenames_pos = sorted(glob(os.path.join('.', 'aclImdb', 'test', 'pos', '*.txt')))\n",
    "\n",
    "texts_neg = [open(f, encoding=\"utf8\").read() for f in filenames_neg]\n",
    "texts_pos = [open(f, encoding=\"utf8\").read() for f in filenames_pos]\n",
    "texts = texts_neg + texts_pos\n",
    "\n",
    "# The first half of the elements of the list are string of negative reviews, and the second half positive ones\n",
    "# We create the labels, as an array of [1,len(texts)], filled with 1, and change the first half to 0\n",
    "y = np.ones(len(texts), dtype=np.int)\n",
    "y[:len(texts_neg)] = 0.\n",
    "\n",
    "print(\"%d documents\" % len(texts))"
   ]
  },
  {
   "cell_type": "markdown",
   "metadata": {},
   "source": [
    "#### Quick study of the data\n",
    "\n",
    "We would like to get an idea of what's in these film reviews before we proceed. So we'll get the vocabulary (in full) and represent the frequencies of the words, in order (be careful, you'll have to use a logarithmic scale): we should find back Zipf's law. This will give us an idea of the size of the vocabulary we will be able to choose: it's a matter of making a compromise between the necessary resources (size of the objects in memory) and the amount of information we can get from them (rare words can bring a lot of information, but it's difficult to learn good representations of them, because they are rare!). \n",
    "\n",
    "<div class='alert alert-block alert-info'>\n",
    "            Code:</div>"
   ]
  },
  {
   "cell_type": "code",
   "execution_count": 8,
   "metadata": {},
   "outputs": [
    {
     "data": {
      "image/png": "[encoded data removed]",
      "text/plain": [
       "<Figure size 2000x500 with 1 Axes>"
      ]
     },
     "metadata": {},
     "output_type": "display_data"
    },
    {
     "name": "stdout",
     "output_type": "stream",
     "text": [
      "Vocabulary size: 93231\n",
      "Part of the corpus by taking the \"x\" most frequent words ?\n",
      "x =  500\n",
      " 69.124630 %\n"
     ]
    }
   ],
   "source": [
    "# We would like to display the curve of word frequencies given their rank (index) in the vocabulary\n",
    "vocab, word_counts = vocabulary(texts)\n",
    "#\n",
    "# \n",
    "#\n",
    "\n",
    "# We can for example use the function plt.scatter()\n",
    "plt.figure(figsize=(20,5))\n",
    "plt.title('Word counts versus rank')\n",
    "plt.scatter(vocab.values(), word_counts.values())\n",
    "# \n",
    "#\n",
    "plt.yscale('log')\n",
    "plt.show()\n",
    "\n",
    "# We would like to know how much of the data is represented by the 'k' most frequent words\n",
    "print('Vocabulary size: %i' % len(vocab))\n",
    "print('Part of the corpus by taking the \"x\" most frequent words ?')\n",
    "#\n",
    "while 1:\n",
    "    x=int(input())\n",
    "    if x < len(vocab):\n",
    "        break\n",
    "\n",
    "lst_of_fword_occ = list(word_counts.values())[:x]\n",
    "sum_of_occ = sum(lst_of_fword_occ)\n",
    "result = sum_of_occ/sum(list(word_counts.values()))\n",
    "print(\"x = \",x)\n",
    "print(\" {0:1f} %\".format(result*100))\n"
   ]
  },
  {
   "cell_type": "markdown",
   "metadata": {},
   "source": [
    "**Result of the analysis**: we can be satisfied with a vocabulary of 10,000 or even 5,000 words - this is important, because it will determine the size of the objects we will manipulate.\n",
    "\n",
    "#### Obtaining the matrices:\n",
    "We can now get the co-occurence matrices with parameters of our choosing !"
   ]
  },
  {
   "cell_type": "code",
   "execution_count": 9,
   "metadata": {},
   "outputs": [
    {
     "name": "stdout",
     "output_type": "stream",
     "text": [
      "(5001, 5001)\n",
      "(5001, 5001)\n"
     ]
    }
   ],
   "source": [
    "vocab_5k, word_counts_5k = vocabulary(texts, 0, 5000)\n",
    "M5dist = co_occurence_matrix(texts, vocab_5k, window=5, distance_weighting=True)\n",
    "M20 = co_occurence_matrix(texts, vocab_5k, window=20, distance_weighting=False)\n",
    "print(M5dist.shape)\n",
    "print(M20.shape)"
   ]
  },
  {
   "cell_type": "code",
   "execution_count": 10,
   "metadata": {},
   "outputs": [
    {
     "name": "stdout",
     "output_type": "stream",
     "text": [
      "[7.34404393e+03 3.80292974e+03 4.26779039e+03 ... 3.01301407e+00\n",
      " 1.58905923e+00 1.77953231e+04]\n"
     ]
    }
   ],
   "source": [
    "print(M5dist[-1])"
   ]
  },
  {
   "cell_type": "code",
   "execution_count": 11,
   "metadata": {},
   "outputs": [
    {
     "name": "stdout",
     "output_type": "stream",
     "text": [
      "440\n",
      "[ 9.36018576  9.09404357  8.17571046 ...  0.          0.\n",
      " 12.15935411]\n",
      "[2.621e+03 1.640e+03 1.513e+03 ... 2.000e+00 0.000e+00 3.763e+03]\n"
     ]
    }
   ],
   "source": [
    "print(vocab_5k['cinema'])\n",
    "print(M5dist[429])\n",
    "print(M20[429])"
   ]
  },
  {
   "cell_type": "markdown",
   "metadata": {},
   "source": [
    "### Vector comparison \n",
    "\n",
    "We can use these very large-dimensional vectors for a very simple semantic analysis: for example, by looking for the nearest neighbors of a words. However, we need to be careful to the distance that we use (euclidean, cosine). Vector normalization can also play a role; in any way, we need to not over-interpret this type of results. "
   ]
  },
  {
   "cell_type": "code",
   "execution_count": 12,
   "metadata": {},
   "outputs": [
    {
     "name": "stdout",
     "output_type": "stream",
     "text": [
      "Avec un contexte large, sans prendre en compte la distance entre les mots:\n",
      "Plus proches voisins de good selon la distance 'euclidean': \n",
      "[['very', 'what', 'more', 'even', 'no', 'time', 'there', 'story', 'only']]\n",
      "Plus proches voisins de good selon la distance 'cosine': \n",
      "[['very', 'great', 'decent', 'pretty', 'not', 'funny', 'cool', 'really', 'just']]\n",
      "\n",
      "Avec un contexte plus petit, et en réduisant l'impact des paires de mots selon leur distance:\n",
      "Plus proches voisins de good selon la distance 'euclidean': \n",
      "[['great', 'very', 'bad', 'what', 'story', 'time', 'well', 'made', 'its']]\n",
      "Plus proches voisins de good selon la distance 'cosine': \n",
      "[['great', 'very', 'simple', 'fun', 'decent', 'little', 'strange', 'funny', 'perfect']]\n"
     ]
    }
   ],
   "source": [
    "def euclidean(u, v):\n",
    "    return np.linalg.norm(u-v)\n",
    "\n",
    "def length_norm(u):\n",
    "    return u / np.sqrt(u.dot(u))\n",
    "\n",
    "def cosine(u, v):\n",
    "    return 1.0 - length_norm(u).dot(length_norm(v))\n",
    "\n",
    "from sklearn.neighbors import NearestNeighbors\n",
    "\n",
    "def print_neighbors(distance, voc, co_oc, mot, k=10):\n",
    "    inv_voc = {id: w for w, id in voc.items()}\n",
    "    neigh = NearestNeighbors(n_neighbors=k, algorithm='brute', metric=distance)\n",
    "    neigh.fit(co_oc) \n",
    "    dist, ind = neigh.kneighbors([co_oc[voc[mot]]])\n",
    "    print(\"Plus proches voisins de %s selon la distance '%s': \" % (mot, distance.__name__))\n",
    "    print([[inv_voc[i] for i in s[1:]] for s in ind])\n",
    "    \n",
    "print(\"Avec un contexte large, sans prendre en compte la distance entre les mots:\")    \n",
    "print_neighbors(euclidean, vocab_5k, M20, 'good')\n",
    "print_neighbors(cosine, vocab_5k, M20, 'good')\n",
    "print(\"\")\n",
    "print(\"Avec un contexte plus petit, et en réduisant l'impact des paires de mots selon leur distance:\")    \n",
    "print_neighbors(euclidean, vocab_5k, M5dist, 'good')\n",
    "print_neighbors(cosine, vocab_5k, M5dist, 'good') "
   ]
  },
  {
   "cell_type": "markdown",
   "metadata": {},
   "source": [
    "#### Vector re-weighting:\n",
    "\n",
    "Similarly as before, we may want to alter the representations to obtain better features - depending on what use we will have for them.\n",
    "\n",
    "**Normalization**: Very easy: we want to cancel the influence of the magnitude of the counts on the representation.\n",
    "\n",
    "$$\\mathbf{m_{normalized}} = \\left[ \n",
    "   \\frac{m_{1}}{\\sum_{i=1}^{n}m_{i}}, \n",
    "   \\frac{m_{2}}{\\sum_{i=1}^{n}m_{i}}, \n",
    "   \\ldots\n",
    "   \\frac{m_{n}}{\\sum_{i=1}^{n}m_{i}}, \n",
    "\\right]$$\n",
    " \n",
    "**Pointwise Mutual Information**: The aim is to assess the extent to which the co-occurrence of the two terms is *unexpected*. This measure is the ratio of the joint probability of the two words and the product of their individual probabilities:\n",
    "$$\n",
    "\\text{PMI}(x,y) = \\log \\left( \\frac{P(x,y)}{P(x)P(y)} \\right)\n",
    "$$\n",
    "The joint probability of the two words corresponds to the number of times they are observed together, divided by the total number of co-occurrences in the corpus: \n",
    "$$ P(\\mathbf{M},w_{1},w_{2}) = \\frac{M_{w_{1},w_{2}}}{\\sum_{i=1}^{n}\\sum_{j=1}^{n} M_{i,j}} $$\n",
    "The individual probability of a word simply corresponds to its frequency, which can be calculated by counting all co-occurrences where that word appears:\n",
    "$$ P(\\mathbf{M},w) = \\frac{\\sum_{j=1}^{m} M_{w,j}}{\\sum_{i=1}^{n}\\sum_{j=1}^{n} M_{i,j}} $$\n",
    "Hence,\n",
    "$$ \n",
    "\\text{PMI}(\\mathbf{M},w_{1},w_{2}) = \\log  \\frac{M_{w_{1},w_{2}} \\times \\left( \\sum_{i=1}^{n}\\sum_{j=1}^{n} M_{i,j} \\right)}{\\left( \\sum_{j=1}^{n} M_{w_{1},j} \\right) \\times \\left( \\sum_{i=1}^{n}M_{i,w_{2}} \\right)} \n",
    "$$\n",
    "We thus calculate the discrepancy between the observation we have made in our corpus and the frequency of appearance of these terms if we consider them independent - i.e. we assume that their co-occurrence is a coincidence.\n",
    "\n",
    "The main problem with this measure is that it is not adapted to the case where no co-occurrence is observed. Since the PMI is supposed to return a positive quantity if more co-occurrences are observed than expected, and a negative quantity if fewer co-occurrences are observed, we cannot choose to replace $\\log(0)$ by $0$. A commonly used solution is to use the **Positive PMI**, which sets all negative values to $0$.\n",
    " \n",
    " $$ \\text{PPMI}(\\mathbf{M},w_{1},w_{2}) = \n",
    " \\begin{cases}\n",
    " \\text{PMI}(\\mathbf{M},w_{1},w_{2}) & \\textrm{if } \\text{PMI}(\\mathbf{M},w_{1},w_{2}) > 0 \\\\\n",
    " 0 & \\textrm{otherwise}\n",
    " \\end{cases} $$"
   ]
  },
  {
   "cell_type": "code",
   "execution_count": 13,
   "metadata": {},
   "outputs": [],
   "source": [
    "def pmi(co_oc, positive=True):\n",
    "    sum_vec = co_oc.sum(axis=0)\n",
    "    sum_tot = sum_vec.sum()\n",
    "    with np.errstate(divide='ignore'):\n",
    "        pmi = np.log((co_oc * sum_tot) / (np.outer(sum_vec, sum_vec)))                 \n",
    "    pmi[np.isinf(pmi)] = 0.0  # log(0) = 0\n",
    "    if positive:\n",
    "        pmi[pmi < 0] = 0.0\n",
    "    return pmi"
   ]
  },
  {
   "cell_type": "code",
   "execution_count": 14,
   "metadata": {},
   "outputs": [
    {
     "name": "stdout",
     "output_type": "stream",
     "text": [
      "Avec la PPMI:\n",
      "Plus proches voisins de good selon la distance 'euclidean': \n",
      "[['movie', 'this', 'it', 'the', 'is', 'was', 'but', 'film', 'one']]\n",
      "Plus proches voisins de good selon la distance 'cosine': \n",
      "[['great', 'decent', 'but', 'and', 'acting', 'some', 'bad', 'were', 'overall']]\n",
      "Plus proches voisins de good selon la distance 'euclidean': \n",
      "[['but', 'is', 'movie', 'and', 'it', 'this', 'the', 'not', 'that']]\n",
      "Plus proches voisins de good selon la distance 'cosine': \n",
      "[['great', 'bad', 'pretty', 'acting', 'decent', 'but', 'movie', 'very', 'overall']]\n"
     ]
    }
   ],
   "source": [
    "PPMI5 = pmi(M5dist)\n",
    "PPMI20 = pmi(M20)\n",
    "\n",
    "print(\"Avec la PPMI:\")    \n",
    "print_neighbors(euclidean, vocab_5k, PPMI5, 'good')\n",
    "print_neighbors(cosine, vocab_5k, PPMI5, 'good')\n",
    "print_neighbors(euclidean, vocab_5k, PPMI20, 'good')\n",
    "print_neighbors(cosine, vocab_5k, PPMI20, 'good')"
   ]
  },
  {
   "cell_type": "markdown",
   "metadata": {},
   "source": [
    "### Word representations through count-based methods: reducing the dimension of co-occurence matrices\n",
    "\n",
    "#### Motivation\n",
    "\n",
    "The goal is not only to reduce the size of the data representation (then, we will work with smaller pre-determined sized representations, instead of working with vectors of the size of the vocabulary) but also showcase higher-level relationships between words: by reducing their representations to the *most important dimensions* of the data, we end up *generalizing* some properties of words.\n",
    "\n",
    "#### Dimension reduction via SVD \n",
    "\n",
    "A matrix is a linear transformation: applying a SVD to it is decomposing our linear transformation in a product of linear transformations of different types. We are changing the basis and replacing our data in a different space, using **eigenvectors**:\n",
    "\n",
    "$$ \\mathbf{M} = \\mathbf{U} \\mathbf{\\lambda} \\mathbf{V}^{\\text{T}} $$\n",
    "\n",
    "Matrices $\\mathbf{U}$, $\\mathbf{\\lambda}$, and $\\mathbf{V}$ have the following properties:\n",
    "- $\\mathbf{U}$ and $\\mathbf{V}$ are orthogonal matrices ($\\mathbf{U}^{\\text{T}} = \\mathbf{U}^{-1}$ and $\\mathbf{V}^{\\text{T}} = \\mathbf{V}^{-1}$). They contain the eingenvectors to the left and to the right of $\\mathbf{M}$.\n",
    "- $\\mathbf{\\lambda}$ is a diagonal matrix: careful, it is not necessarily square. diagonal coefficient are the eigenvalues of $\\mathbf{M}$.\n",
    "\n",
    "Then, the *most important dimensions* correspond to the highest eigenvalues. Reducing our data to a dimension $k$ corresponds to only keeping vectors corresponding to the $k$ first eigenvalues - which in turns is equivalent to keeping only the first $k$ vectors of $U$. \n",
    "We use ```TruncatedSVD``` from ```scikit-learn```:"
   ]
  },
  {
   "cell_type": "code",
   "execution_count": 15,
   "metadata": {},
   "outputs": [
    {
     "name": "stdout",
     "output_type": "stream",
     "text": [
      "(5001, 300)\n",
      "Plus proches voisins de good selon la distance 'euclidean': \n",
      "[['great', 'very', 'bad', 'what', 'story', 'time', 'well', 'made', 'its']]\n",
      "Plus proches voisins de good selon la distance 'cosine': \n",
      "[['great', 'very', 'simple', 'decent', 'perfect', 'terrific', 'fun', 'strange', 'little']]\n"
     ]
    }
   ],
   "source": [
    "from sklearn.decomposition import TruncatedSVD\n",
    "svd = TruncatedSVD(n_components=300)\n",
    "SVDEmbeddings = svd.fit_transform(M5dist)\n",
    "print(SVDEmbeddings.shape)\n",
    "SVDEmbeddings[vocab_5k['UNK']]\n",
    "\n",
    "print_neighbors(euclidean, vocab_5k, SVDEmbeddings, 'good')\n",
    "print_neighbors(cosine, vocab_5k, SVDEmbeddings, 'good')"
   ]
  },
  {
   "cell_type": "markdown",
   "metadata": {},
   "source": [
    "Note: When applying this method to the count matrix $\\mathbf{M}$ of dimension $T \\times D$, where $\\mathbf{M}_{t,d}$ contains the number of occuerences of the word $t$ in the document $d$, we obtain the method called **Latent Semantic Analysis**, which is used to detect latent (semantic) components allowing to group documents together."
   ]
  },
  {
   "cell_type": "markdown",
   "metadata": {},
   "source": [
    "#### Visualization in two dimensions\n",
    "\n",
    "We will now use **principal components analysis** (PCA) to visualize our data in two dimensions. This is equivalent to applying SVD to the covariance matrix of the data, in order for the principal components to be independant from each other an maximize the variance of the data. We use the class ```PCA``` from ```scikit-learn```: "
   ]
  },
  {
   "cell_type": "code",
   "execution_count": 16,
   "metadata": {},
   "outputs": [
    {
     "data": {
      "image/png": "[encoded data removed]",
      "text/plain": [
       "<Figure size 640x480 with 1 Axes>"
      ]
     },
     "metadata": {},
     "output_type": "display_data"
    }
   ],
   "source": [
    "from sklearn.decomposition import PCA\n",
    "pca = PCA(n_components=2, whiten=True)\n",
    "Emb = pca.fit_transform(M5dist)\n",
    "\n",
    "words = ['bad', 'good', 'best', 'worst', 'poor', 'great',\n",
    "         'dialog', 'role', 'actor', 'camera', 'scene',\n",
    "         'film', 'movie', 'award']\n",
    "ind_words = [vocab_5k[w] for w in words]\n",
    "\n",
    "x_words = [Emb[ind,0] for ind in ind_words]\n",
    "y_words = [Emb[ind,1] for ind in ind_words]\n",
    "\n",
    "fig, ax = plt.subplots()\n",
    "ax.scatter(x_words, y_words)\n",
    "\n",
    "for i, w in enumerate(words):\n",
    "    ax.annotate(w, (x_words[i], y_words[i]), (x_words[i] + 0.001, y_words[i] + 0.001))"
   ]
  },
  {
   "cell_type": "code",
   "execution_count": 17,
   "metadata": {},
   "outputs": [
    {
     "data": {
      "image/png": "[encoded data removed]",
      "text/plain": [
       "<Figure size 640x480 with 1 Axes>"
      ]
     },
     "metadata": {},
     "output_type": "display_data"
    }
   ],
   "source": [
    "Norm5 = M5dist / np.linalg.norm(M5dist, ord=2, axis=1, keepdims=True)\n",
    "\n",
    "pca = PCA(n_components=2, whiten=True)\n",
    "Emb = pca.fit_transform(Norm5)\n",
    "\n",
    "words = ['bad', 'good', 'best', 'worst', 'poor', 'great',\n",
    "         'dialog', 'role', 'actor', 'camera', 'scene',\n",
    "         'film', 'movie', 'award']\n",
    "ind_words = [vocab_5k[w] for w in words]\n",
    "x_words = [Emb[ind,0] for ind in ind_words]\n",
    "y_words = [Emb[ind,1] for ind in ind_words]\n",
    "\n",
    "fig, ax = plt.subplots()\n",
    "ax.scatter(x_words, y_words)\n",
    "\n",
    "for i, w in enumerate(words):\n",
    "    ax.annotate(w, (x_words[i], y_words[i]), (x_words[i] + 0.001, y_words[i] + 0.001))"
   ]
  },
  {
   "cell_type": "markdown",
   "metadata": {},
   "source": [
    "## Word representations through prediction-based methods: commonly used algorithms\n",
    "\n",
    "The idea here is to define a set of representations ${w_{i}}_{i=1}^{V}$, of predefined dimension $d$ (here, we will work with $d = 300$), for all the words $i$ of the vocabulary $V$ - then **train** these representations to match what we want. "
   ]
  },
  {
   "cell_type": "markdown",
   "metadata": {},
   "source": [
    "#### Glove\n",
    "\n",
    "The objective defined by Glove ([Pennington et al. (2014)](http://www.aclweb.org/anthology/D/D14/D14-1162.pdf)) is to learn from the vectors $w_{i}$ and $w_{k}$ so that their scalar product corresponds to the logarithm of their **Pointwise Mutual Information**: \n",
    "\n",
    "\n",
    "$$ w_{i}^\\top w_{k} = (PMI(w_{i}, w_{k}))$$\n",
    "\n",
    "\n",
    "In the article, this objective is carefully justified by a reasoning about the operations one wants to perform with these vectors and the properties they should have - in particular, symmetry between rows and columns (see the article for more details).  \n",
    "The final goal obtained is the following, where $M$ is the co-occurrence matrix:\n",
    "\n",
    "\n",
    "$$\\sum_{i, j=1}^{|V|} f\\left(M_{ij}\\right)\n",
    "  \\left(w_i^\\top w_j + b_i + b_j - \\log M_{ij}\\right)^2$$\n",
    "  \n",
    " \n",
    "Here, $f$ is a *scaling* function that reduces the importance of the most frequent co-occurrence counts: \n",
    "\n",
    "\n",
    "$$f(x) \n",
    "\\begin{cases}\n",
    "(x/x_{\\max})^{\\alpha} & \\textrm{if } x < x_{\\max} \\\\\n",
    "1 & \\textrm{otherwise}\n",
    "\\end{cases}$$\n",
    "\n",
    "\n",
    "Usually, we choose $\\alpha=0.75$ and $x_{\\max} = 100$, although these parameters may need to be changed depending on the data."
   ]
  },
  {
   "cell_type": "markdown",
   "metadata": {},
   "source": [
    "The following code uses the gensim API to retrieve pre-trained representations (It is normal that the loading is long)."
   ]
  },
  {
   "cell_type": "code",
   "execution_count": 18,
   "metadata": {},
   "outputs": [
    {
     "name": "stderr",
     "output_type": "stream",
     "text": [
      "c:\\Users\\ouedr\\anaconda3\\lib\\site-packages\\paramiko\\transport.py:219: CryptographyDeprecationWarning: Blowfish has been deprecated\n",
      "  \"class\": algorithms.Blowfish,\n"
     ]
    }
   ],
   "source": [
    "import gensim.downloader as api\n",
    "loaded_glove_model = api.load(\"glove-wiki-gigaword-300\")"
   ]
  },
  {
   "cell_type": "markdown",
   "metadata": {},
   "source": [
    "We can extract the embedding matrix this way, and check its size:"
   ]
  },
  {
   "cell_type": "code",
   "execution_count": 19,
   "metadata": {},
   "outputs": [
    {
     "name": "stdout",
     "output_type": "stream",
     "text": [
      "(400000, 300)\n"
     ]
    }
   ],
   "source": [
    "loaded_glove_embeddings = loaded_glove_model.vectors\n",
    "print(loaded_glove_embeddings.shape)"
   ]
  },
  {
   "cell_type": "markdown",
   "metadata": {},
   "source": [
    "We can see that there are $400,000$ words represented, and that the embeddings are of size $300$. We define a function that returns, from the loaded model, the vocabulary and the embedding matrix according to the structures we used before. We add, here again, an unknown word \"UNK\" in case there are words in our data that are not part of the $400,000$ words represented here. "
   ]
  },
  {
   "cell_type": "code",
   "execution_count": 20,
   "metadata": {},
   "outputs": [],
   "source": [
    "def get_glove_voc_and_embeddings(glove_model):\n",
    "    voc = {word : index for word, index in enumerate(glove_model.index_to_key)}\n",
    "    voc['UNK'] = len(voc)\n",
    "    embeddings = glove_model.vectors\n",
    "    return voc, embeddings"
   ]
  },
  {
   "cell_type": "code",
   "execution_count": 21,
   "metadata": {},
   "outputs": [],
   "source": [
    "loaded_glove_voc, loaded_glove_embeddings = get_glove_voc_and_embeddings(loaded_glove_model)"
   ]
  },
  {
   "cell_type": "markdown",
   "metadata": {},
   "source": [
    "In order to compare the representations loaded here and the ones produced with word2vec, the same vocabulary should be used. For this purpose, I reuse the following code to create a $5000$ word vocabulary from the data, and I add at the end a function that returns the matrix of representations loaded with Glove for these $5000$ words only, in the right order. "
   ]
  },
  {
   "cell_type": "code",
   "execution_count": 22,
   "metadata": {},
   "outputs": [],
   "source": [
    "def get_glove_adapted_embeddings(glove_model, input_voc):\n",
    "    keys = {i: glove_model.key_to_index.get(w, None) for w, i in input_voc.items()}\n",
    "    index_dict = {i: key for i, key in keys.items() if key is not None}\n",
    "    embeddings = np.zeros((len(input_voc),glove_model.vectors.shape[1]))\n",
    "    for i, ind in index_dict.items():\n",
    "        embeddings[i] = glove_model.vectors[ind]\n",
    "    return embeddings"
   ]
  },
  {
   "cell_type": "code",
   "execution_count": 23,
   "metadata": {},
   "outputs": [],
   "source": [
    "GloveEmbeddings = get_glove_adapted_embeddings(loaded_glove_model, vocab_5k)"
   ]
  },
  {
   "cell_type": "markdown",
   "metadata": {},
   "source": [
    "This function takes as input the model loaded using the Gensim API, as well as a vocabulary we created ourselves, and returns the embedding matrix from the loaded model, for the words in our vocabulary and in the right order.\n",
    "Note: unknown words are represented by a vector of zeros:"
   ]
  },
  {
   "cell_type": "code",
   "execution_count": 24,
   "metadata": {},
   "outputs": [
    {
     "name": "stdout",
     "output_type": "stream",
     "text": [
      "(5001, 300)\n"
     ]
    },
    {
     "data": {
      "text/plain": [
       "array([0., 0., 0., 0., 0., 0., 0., 0., 0., 0., 0., 0., 0., 0., 0., 0., 0.,\n",
       "       0., 0., 0., 0., 0., 0., 0., 0., 0., 0., 0., 0., 0., 0., 0., 0., 0.,\n",
       "       0., 0., 0., 0., 0., 0., 0., 0., 0., 0., 0., 0., 0., 0., 0., 0., 0.,\n",
       "       0., 0., 0., 0., 0., 0., 0., 0., 0., 0., 0., 0., 0., 0., 0., 0., 0.,\n",
       "       0., 0., 0., 0., 0., 0., 0., 0., 0., 0., 0., 0., 0., 0., 0., 0., 0.,\n",
       "       0., 0., 0., 0., 0., 0., 0., 0., 0., 0., 0., 0., 0., 0., 0., 0., 0.,\n",
       "       0., 0., 0., 0., 0., 0., 0., 0., 0., 0., 0., 0., 0., 0., 0., 0., 0.,\n",
       "       0., 0., 0., 0., 0., 0., 0., 0., 0., 0., 0., 0., 0., 0., 0., 0., 0.,\n",
       "       0., 0., 0., 0., 0., 0., 0., 0., 0., 0., 0., 0., 0., 0., 0., 0., 0.,\n",
       "       0., 0., 0., 0., 0., 0., 0., 0., 0., 0., 0., 0., 0., 0., 0., 0., 0.,\n",
       "       0., 0., 0., 0., 0., 0., 0., 0., 0., 0., 0., 0., 0., 0., 0., 0., 0.,\n",
       "       0., 0., 0., 0., 0., 0., 0., 0., 0., 0., 0., 0., 0., 0., 0., 0., 0.,\n",
       "       0., 0., 0., 0., 0., 0., 0., 0., 0., 0., 0., 0., 0., 0., 0., 0., 0.,\n",
       "       0., 0., 0., 0., 0., 0., 0., 0., 0., 0., 0., 0., 0., 0., 0., 0., 0.,\n",
       "       0., 0., 0., 0., 0., 0., 0., 0., 0., 0., 0., 0., 0., 0., 0., 0., 0.,\n",
       "       0., 0., 0., 0., 0., 0., 0., 0., 0., 0., 0., 0., 0., 0., 0., 0., 0.,\n",
       "       0., 0., 0., 0., 0., 0., 0., 0., 0., 0., 0., 0., 0., 0., 0., 0., 0.,\n",
       "       0., 0., 0., 0., 0., 0., 0., 0., 0., 0., 0.])"
      ]
     },
     "execution_count": 24,
     "metadata": {},
     "output_type": "execute_result"
    }
   ],
   "source": [
    "print(GloveEmbeddings.shape)\n",
    "GloveEmbeddings[vocab_5k['UNK']]"
   ]
  },
  {
   "cell_type": "code",
   "execution_count": 25,
   "metadata": {},
   "outputs": [
    {
     "name": "stdout",
     "output_type": "stream",
     "text": [
      "Plus proches voisins de good selon la distance 'euclidean': \n",
      "[['better', 'well', 'always', 'really', 'sure', 'way', 'so', 'but', 'excellent']]\n",
      "Plus proches voisins de good selon la distance 'cosine': \n",
      "[['better', 'really', 'always', 'you', 'well', 'excellent', 'very', 'things', 'think']]\n"
     ]
    },
    {
     "name": "stderr",
     "output_type": "stream",
     "text": [
      "C:\\Users\\ouedr\\AppData\\Local\\Temp\\ipykernel_20320\\4131742084.py:5: RuntimeWarning: invalid value encountered in divide\n",
      "  return u / np.sqrt(u.dot(u))\n"
     ]
    }
   ],
   "source": [
    "print_neighbors(euclidean, vocab_5k, GloveEmbeddings, 'good')\n",
    "print_neighbors(cosine, vocab_5k, GloveEmbeddings, 'good')"
   ]
  },
  {
   "cell_type": "markdown",
   "metadata": {},
   "source": [
    "#### Word2Vec\n",
    "\n",
    "\n",
    "**Reminder: The skip-gram model**\n",
    "\n",
    "The basic skip-gram model estimates the probabilities of a pair of words $(i, j)$ to appear together in data:\n",
    "\n",
    "$$P(j \\mid i) = \\frac{\\exp(w_{i} c_{j})}{\\sum_{j'\\in V}\\exp(w_{i} c_{j'})}$$\n",
    "\n",
    "\n",
    "where $w_{i}$ is the lign vector (of the word) $i$ and $c_{j}$ is the column vector (of a context word) $j$. The objective is to minimize the following quantity:\n",
    "\n",
    "\n",
    "$$ -\\sum_{i=1}^{m} \\sum_{k=1}^{|V|} \\textbf{1}\\{o_{i}=k\\} \\log \\frac{\\exp(w_{i} c_{k})}{\\sum_{j=1}^{|V|} \\exp(w_{i} c_{j})}$$\n",
    "\n",
    "\n",
    "where $V$ is the vocabulary.\n",
    "The inputs $w_{i}$ are the representations of the words, which are updated during training, and the output is an *one-hot* $o$ vector, which contains only one $1$ and $0$. For example, if `good` is the 47th word in the vocabulary, the output $o$ for an example or `good` is the word to predict will consist of $0$s everywhere except $1$ in the 47th position of the vector. `good` will be the word to predict when the input $w$ is a word in its context.\n",
    "We therefore obtain this output with standard softmax - we add a bias term $b$ .\n",
    "\n",
    "\n",
    "$$ o = \\textbf{softmax}(w_{a}C + b)$$\n",
    "\n",
    "\n",
    "If we use the set of representations for the whole vocabulary (the matrix $W$) as input, we get:\n",
    "\n",
    "\n",
    "$$ O = \\textbf{softmax}(WC + b)$$\n",
    "\n",
    "\n",
    "and so we come back to the central idea of all our methods: we seek to obtain word representations from co-occurrence counts. Here, we train the parameters contained in $W$ and $C$, two matrices representing the words in reduced dimension (300) so that their scalar product is as close as possible to the co-occurrences observed in the data, using a maximum likelihood objective.\n",
    "\n",
    "#### Skip-gram with negative sampling\n",
    "\n",
    "The training of the skip-gram model implies to calculate a sum on the whole vocabulary, because of the **softmax**. As soon as the size of the vocabulary increases, it becomes impossible to compute. In order to make the calculations faster, we change the objective and use the method of *negative sampling* (or, very close to it, the *noise contrastive estimation*).\n",
    "\n",
    "\n",
    "If we note $\\mathcal{D}$ the data set and we note $\\mathcal{D}'$ a set of pairs of words that are **not** in the data (and that in practice, we draw randomly), the objective is:\n",
    "\n",
    "\n",
    "$$\\sum_{i, j \\in \\mathcal{D}}-\\log\\sigma(w_{i}c_{j}) + \\sum_{i, j \\in \\mathcal{D}'}\\log\\sigma(w_{i}c_{j})$$\n",
    "\n",
    "\n",
    "where $\\sigma$ is the sigmoid activation function $\\frac{1}{1 + \\exp(-x)}$.\n",
    "A common practice is to generate pairs from $\\mathcal{D}'$ in proportion to the frequencies of the words in the training data (the so-called unigram distribution):\n",
    "\n",
    "\n",
    "$$P(w) = \\frac{\\textbf{T}(w)^{0.75}}{\\sum_{w'\\in V} \\textbf{T}(w')}$$\n",
    "\n",
    "\n",
    "Although different, this new objective function is a sufficient approximation of the previous one, and is based on the same principle. Much research has been done on this objective: for example, [Levy and Golberg 2014](http://papers.nips.cc/paper/5477-neural-word-embedding-as-implicit-matrix-factorization) shows that the objective calculates the PMI matrix shifted by a constant value. One can also see [Cotterell et al. 2017](https://aclanthology.coli.uni-saarland.de/papers/E17-2028/e17-2028) for an interpretation of the algorithm as a variant of PCA."
   ]
  },
  {
   "cell_type": "markdown",
   "metadata": {},
   "source": [
    "We will use the ```gensim``` library for its implementation of word2vec in python. We'll have to make a specific use of it, since we want to keep the same vocabulary as before: we'll first create the class, then get the vocabulary we generated above. \n",
    "To avoid having to put all the data in memory all at once, we define a generator, which will take all the input data and pre-process it, and return to the ```Word2Vec``` class sentence by sentence. "
   ]
  },
  {
   "cell_type": "code",
   "execution_count": 26,
   "metadata": {},
   "outputs": [],
   "source": [
    "from gensim.models import Word2Vec\n",
    "\n",
    "model = Word2Vec(vector_size=300,\n",
    "                 window=5,\n",
    "                 null_word=len(word_counts_5k))\n",
    "model.build_vocab_from_freq(word_counts_5k)"
   ]
  },
  {
   "cell_type": "code",
   "execution_count": 27,
   "metadata": {},
   "outputs": [],
   "source": [
    "preprocessed_corpus = [nltk.word_tokenize(texts[i]) for i in range(len(texts))]"
   ]
  },
  {
   "cell_type": "code",
   "execution_count": 47,
   "metadata": {},
   "outputs": [
    {
     "data": {
      "text/plain": [
       "['Story',\n",
       " 'of',\n",
       " 'a',\n",
       " 'man',\n",
       " 'who',\n",
       " 'has',\n",
       " 'unnatural',\n",
       " 'feelings',\n",
       " 'for',\n",
       " 'a',\n",
       " 'pig',\n",
       " '.',\n",
       " 'Starts',\n",
       " 'out',\n",
       " 'with',\n",
       " 'a',\n",
       " 'opening',\n",
       " 'scene',\n",
       " 'that',\n",
       " 'is',\n",
       " 'a',\n",
       " 'terrific',\n",
       " 'example',\n",
       " 'of',\n",
       " 'absurd',\n",
       " 'comedy',\n",
       " '.',\n",
       " 'A',\n",
       " 'formal',\n",
       " 'orchestra',\n",
       " 'audience',\n",
       " 'is',\n",
       " 'turned',\n",
       " 'into',\n",
       " 'an',\n",
       " 'insane',\n",
       " ',',\n",
       " 'violent',\n",
       " 'mob',\n",
       " 'by',\n",
       " 'the',\n",
       " 'crazy',\n",
       " 'chantings',\n",
       " 'of',\n",
       " 'it',\n",
       " \"'s\",\n",
       " 'singers',\n",
       " '.',\n",
       " 'Unfortunately',\n",
       " 'it',\n",
       " 'stays',\n",
       " 'absurd',\n",
       " 'the',\n",
       " 'WHOLE',\n",
       " 'time',\n",
       " 'with',\n",
       " 'no',\n",
       " 'general',\n",
       " 'narrative',\n",
       " 'eventually',\n",
       " 'making',\n",
       " 'it',\n",
       " 'just',\n",
       " 'too',\n",
       " 'off',\n",
       " 'putting',\n",
       " '.',\n",
       " 'Even',\n",
       " 'those',\n",
       " 'from',\n",
       " 'the',\n",
       " 'era',\n",
       " 'should',\n",
       " 'be',\n",
       " 'turned',\n",
       " 'off',\n",
       " '.',\n",
       " 'The',\n",
       " 'cryptic',\n",
       " 'dialogue',\n",
       " 'would',\n",
       " 'make',\n",
       " 'Shakespeare',\n",
       " 'seem',\n",
       " 'easy',\n",
       " 'to',\n",
       " 'a',\n",
       " 'third',\n",
       " 'grader',\n",
       " '.',\n",
       " 'On',\n",
       " 'a',\n",
       " 'technical',\n",
       " 'level',\n",
       " 'it',\n",
       " \"'s\",\n",
       " 'better',\n",
       " 'than',\n",
       " 'you',\n",
       " 'might',\n",
       " 'think',\n",
       " 'with',\n",
       " 'some',\n",
       " 'good',\n",
       " 'cinematography',\n",
       " 'by',\n",
       " 'future',\n",
       " 'great',\n",
       " 'Vilmos',\n",
       " 'Zsigmond',\n",
       " '.',\n",
       " 'Future',\n",
       " 'stars',\n",
       " 'Sally',\n",
       " 'Kirkland',\n",
       " 'and',\n",
       " 'Frederic',\n",
       " 'Forrest',\n",
       " 'can',\n",
       " 'be',\n",
       " 'seen',\n",
       " 'briefly',\n",
       " '.']"
      ]
     },
     "execution_count": 47,
     "metadata": {},
     "output_type": "execute_result"
    }
   ],
   "source": [
    "preprocessed_corpus[0]"
   ]
  },
  {
   "cell_type": "code",
   "execution_count": 37,
   "metadata": {},
   "outputs": [
    {
     "data": {
      "text/plain": [
       "(95923759, 208640790)"
      ]
     },
     "execution_count": 37,
     "metadata": {},
     "output_type": "execute_result"
    }
   ],
   "source": [
    "model.train(preprocessed_corpus, total_examples=25000, epochs=30, report_delay=1)"
   ]
  },
  {
   "cell_type": "code",
   "execution_count": 38,
   "metadata": {},
   "outputs": [
    {
     "name": "stdout",
     "output_type": "stream",
     "text": [
      "(5001, 300)\n"
     ]
    },
    {
     "data": {
      "text/plain": [
       "array([-3.18454788e-03, -1.37849525e-03, -1.01620320e-03, -9.02454834e-04,\n",
       "        1.05600001e-03, -2.16791872e-03, -2.05645571e-03, -3.55383963e-04,\n",
       "        3.16166878e-03, -2.47142161e-03,  3.17959953e-03, -2.36463593e-03,\n",
       "       -1.14690547e-03,  5.17934561e-04,  2.09178240e-03,  1.65859575e-03,\n",
       "       -3.32989660e-03,  2.66940426e-03,  9.63700586e-04, -2.66272947e-03,\n",
       "       -2.65578856e-03,  2.88256328e-03,  1.23786961e-03,  2.10215058e-03,\n",
       "        5.99134364e-04,  3.17870383e-03, -5.04287076e-04,  7.69764185e-04,\n",
       "       -1.34191592e-03, -2.21518194e-03,  1.89394632e-03, -1.39200606e-03,\n",
       "        5.47342293e-04, -3.07131617e-04,  5.83800487e-04,  2.62877933e-04,\n",
       "       -8.37150787e-04, -3.23931291e-03,  2.52716942e-03,  9.39277001e-04,\n",
       "       -3.09186376e-04,  1.09345512e-03, -2.75015505e-03,  1.68446463e-03,\n",
       "       -2.68779392e-03,  1.99498376e-03, -2.20374344e-03, -2.69673951e-03,\n",
       "       -3.11120902e-03,  2.04317202e-03,  1.30404590e-03, -1.53276604e-03,\n",
       "        2.60033761e-03, -2.13976414e-03,  1.80641294e-03, -1.23336597e-03,\n",
       "        9.24282067e-04, -1.58293243e-03, -2.20514485e-03,  3.29388393e-04,\n",
       "        1.99935865e-03,  2.50817765e-03,  2.04183301e-03,  2.86521832e-03,\n",
       "        3.05016432e-03, -3.16946628e-03,  1.04776106e-03, -9.90206376e-04,\n",
       "       -3.52838833e-04, -1.25350629e-03, -5.38870867e-04, -4.89214668e-04,\n",
       "        3.14258691e-03, -1.10209349e-03, -3.29496828e-03, -2.11278512e-03,\n",
       "       -3.12270643e-03,  2.96834181e-03, -1.10286870e-04, -1.43204525e-03,\n",
       "       -6.18237653e-04,  2.24437006e-03, -1.99731346e-03,  2.03263131e-03,\n",
       "        2.50913855e-03, -1.36014505e-03, -1.06736505e-03, -2.49630259e-03,\n",
       "        3.27880098e-03, -2.66956282e-03,  2.34382390e-03,  1.15865073e-03,\n",
       "       -5.06547280e-04, -4.02629375e-04,  2.95770285e-03, -3.10900807e-03,\n",
       "        1.88927329e-03,  1.26106699e-03, -2.94645899e-03, -1.13745926e-04,\n",
       "       -8.26453790e-04, -1.92613562e-03,  2.55894335e-03, -9.83913706e-05,\n",
       "        6.49793947e-04,  7.51321728e-04,  2.02918123e-03,  8.85077345e-04,\n",
       "        2.07157014e-03,  1.68447767e-03,  3.71501839e-04,  1.05090777e-03,\n",
       "       -2.16250331e-03, -2.28009420e-03,  1.05524738e-03, -6.92490721e-04,\n",
       "       -8.88528826e-04,  1.46258832e-03,  7.59637333e-05, -6.35716133e-04,\n",
       "       -5.61094261e-04, -2.71257129e-03,  1.26392092e-03, -1.93774704e-05,\n",
       "        6.68437860e-04, -2.63511925e-03, -1.46561861e-03, -2.37884163e-03,\n",
       "        5.09876816e-04,  1.32947322e-03, -2.77637923e-03, -1.83009938e-03,\n",
       "       -1.98932854e-03, -2.41625030e-03, -2.97746295e-03,  2.23595253e-03,\n",
       "       -7.24860001e-05, -1.76410517e-03,  9.76298645e-04, -1.68839016e-03,\n",
       "       -1.79291051e-03, -8.52917845e-04,  3.07184295e-03, -2.83008208e-03,\n",
       "       -1.57873635e-03, -7.30447355e-04,  5.59929991e-04, -3.13030882e-03,\n",
       "       -2.20102869e-04, -3.16794286e-03, -7.87115889e-04, -1.71384297e-03,\n",
       "       -2.47225212e-03, -1.85681658e-03,  1.56457978e-03, -1.12373789e-03,\n",
       "        1.29709567e-03,  3.29125370e-03, -1.34927745e-03, -1.94640554e-04,\n",
       "       -9.81300254e-04,  3.71123169e-04, -2.90433853e-03,  5.55278442e-04,\n",
       "        7.34768691e-04, -2.57771858e-03,  1.65626686e-03, -1.55896309e-03,\n",
       "       -2.54904036e-03, -3.31296399e-03, -1.65978784e-03,  2.73389067e-03,\n",
       "       -3.27734277e-03,  1.37592037e-03,  1.94093620e-03,  1.07766909e-03,\n",
       "        3.13972961e-03,  9.20784485e-04, -6.82690123e-04, -2.89596361e-03,\n",
       "        3.03719565e-03, -1.35385117e-03, -5.10893646e-04, -2.89354357e-03,\n",
       "       -5.19412744e-04, -8.68479430e-04, -4.03800019e-04,  2.82948208e-03,\n",
       "        8.39236949e-04,  1.23428344e-03, -1.88995281e-03, -5.77085419e-04,\n",
       "       -2.71963608e-03, -9.52316099e-04, -1.11337309e-03, -7.61805801e-04,\n",
       "        2.34625346e-04, -2.78619817e-03, -5.45482209e-04,  1.23363500e-03,\n",
       "        2.22393940e-03,  1.23793003e-03,  1.43648780e-04,  1.61667785e-03,\n",
       "        1.31158950e-03, -6.81846170e-04, -1.57068964e-04, -2.98680476e-04,\n",
       "       -1.32501160e-03,  1.83015864e-03, -2.25554942e-03,  4.09761677e-04,\n",
       "        2.72771483e-03,  1.15335267e-03, -1.46502489e-03,  3.67895758e-04,\n",
       "        3.11885402e-03, -2.18273795e-04, -2.73565529e-03,  2.73809978e-03,\n",
       "        1.72258890e-03,  2.39257817e-03,  1.66236714e-03,  3.11727682e-03,\n",
       "       -2.05333671e-03, -2.18496914e-03,  4.03341459e-04, -2.32127542e-03,\n",
       "        3.26104672e-03, -2.17946377e-04,  2.43047439e-03, -2.81869620e-03,\n",
       "       -3.29811563e-04,  6.20755774e-04, -2.96018086e-03,  1.79733557e-03,\n",
       "        4.71933279e-04,  2.57512322e-03,  8.34571896e-04,  5.15362830e-04,\n",
       "       -1.47665467e-03,  1.80704199e-04, -2.51675164e-03,  8.15252832e-04,\n",
       "       -3.21166427e-03, -3.29813641e-03,  6.96789415e-04, -3.08128633e-03,\n",
       "       -2.13335198e-03, -2.16325920e-04,  3.15648271e-03, -7.24142010e-04,\n",
       "        1.39447337e-03, -6.98418589e-04, -2.98598083e-03, -1.15998031e-03,\n",
       "        2.21506553e-03, -1.53859332e-03, -2.77765351e-03, -4.92597814e-04,\n",
       "        2.94104544e-03,  2.50175392e-04, -1.67117198e-03, -1.70730788e-03,\n",
       "        5.32630656e-04,  7.93858344e-05,  2.79081496e-03,  2.32272223e-03,\n",
       "        1.93249306e-03,  2.17930996e-03,  2.16500761e-04, -1.77747686e-03,\n",
       "        2.16406188e-03, -3.28014023e-03, -7.27707520e-04, -2.84543401e-03,\n",
       "       -4.26516519e-04,  3.21308384e-04,  2.99272942e-04,  4.38543968e-04,\n",
       "       -2.45679100e-03,  1.34129962e-03,  2.26265914e-03,  4.56976879e-04,\n",
       "       -3.27237532e-03, -9.35077260e-04, -2.57437746e-03,  5.25148294e-04,\n",
       "        2.33633164e-03,  2.66749342e-03,  2.93761725e-03,  1.21242402e-03,\n",
       "       -2.86873709e-03,  2.60185800e-04, -1.15224044e-03,  2.22661183e-03,\n",
       "       -3.30202573e-04, -5.15216962e-04, -1.77455344e-03, -3.18592554e-03],\n",
       "      dtype=float32)"
      ]
     },
     "execution_count": 38,
     "metadata": {},
     "output_type": "execute_result"
    }
   ],
   "source": [
    "W2VEmbeddings = model.wv.vectors\n",
    "print(W2VEmbeddings.shape)\n",
    "W2VEmbeddings[vocab_5k['UNK']]"
   ]
  },
  {
   "cell_type": "code",
   "execution_count": 39,
   "metadata": {},
   "outputs": [
    {
     "name": "stdout",
     "output_type": "stream",
     "text": [
      "Plus proches voisins de good selon la distance 'euclidean': \n",
      "[['great', 'bad', 'decent', 'opens', 'wong', 'cynical', 'terrific', 'hack', 'ok']]\n",
      "Plus proches voisins de good selon la distance 'cosine': \n",
      "[['great', 'bad', 'decent', 'basic', 'opens', 'nice', 'fine', 'terrific', 'reality']]\n"
     ]
    }
   ],
   "source": [
    "print_neighbors(euclidean, vocab_5k, W2VEmbeddings, 'good')\n",
    "print_neighbors(cosine, vocab_5k, W2VEmbeddings, 'good')"
   ]
  },
  {
   "cell_type": "markdown",
   "metadata": {},
   "source": [
    "## Application to sentiment analysis\n",
    "\n",
    "We will now use these representations for sentiment analysis. \n",
    "The basic model, as before, will be constructed in two steps:\n",
    "- A function to obtain vector representations of criticism, from text, vocabulary, and vector representations of words. Such a function (to be completed below) will associate to each word of a review its embeddings, and create the representation for the whole sentence by summing these embeddings.\n",
    "- A classifier will take these representations as input and make a prediction. To achieve this, we can first use logistic regression ```LogisticRegression``` from ```scikit-learn```  \n",
    "<div class='alert alert-block alert-info'>\n",
    "            Code:</div>"
   ]
  },
  {
   "cell_type": "code",
   "execution_count": 67,
   "metadata": {},
   "outputs": [],
   "source": [
    "def sentence_representations(texts, vocabulary, embeddings, np_func=np.sum):\n",
    "    \"\"\"\n",
    "    Represent the sentences as a combination of the vector of its words.\n",
    "    Parameters\n",
    "    ----------\n",
    "    texts : a list of sentences   \n",
    "    vocabulary : dict\n",
    "        From words to indexes of vector.\n",
    "    embeddings : Matrix containing word representations\n",
    "    np_func : function (default: np.sum)\n",
    "        A numpy matrix operation that can be applied columnwise, \n",
    "        like `np.mean`, `np.sum`, or `np.prod`. \n",
    "    Returns\n",
    "    -------\n",
    "    np.array, dimension `(len(texts), embeddings.shape[1])`            \n",
    "    \"\"\"\n",
    "    # Initialize an empty array to store the sentence representations\n",
    "    representations = np.zeros((len(texts), embeddings.shape[1]))\n",
    "\n",
    "    # Loop through each sentence\n",
    "    for i, sentence in enumerate(texts):\n",
    "        # Split the sentence into words\n",
    "        sent = clean_and_tokenize(sentence)\n",
    "        # Obtenir les indexs de la phrase grace au vocabulaire: \n",
    "        sent_idx = []\n",
    "        for word in sent:\n",
    "            if vocabulary.get(word) != None : \n",
    "                sent_idx.append(vocabulary.get(word))\n",
    "            else:\n",
    "                sent_idx.append(vocabulary.get('UNK'))\n",
    "\n",
    "        sent_repr = np.zeros((len(sent), embeddings.shape[1]))\n",
    "        for j,idx in enumerate(sent_idx):\n",
    "            sent_repr[j,:] = embeddings[idx,:]\n",
    "\n",
    "        # Apply the numpy operation to the sentence representation\n",
    "        representations[i] = np_func(sent_repr, axis=0)\n",
    "        \n",
    "    return representations"
   ]
  },
  {
   "cell_type": "code",
   "execution_count": 33,
   "metadata": {},
   "outputs": [
    {
     "name": "stderr",
     "output_type": "stream",
     "text": [
      "c:\\Users\\ouedr\\anaconda3\\lib\\site-packages\\sklearn\\linear_model\\_logistic.py:458: ConvergenceWarning: lbfgs failed to converge (status=1):\n",
      "STOP: TOTAL NO. of ITERATIONS REACHED LIMIT.\n",
      "\n",
      "Increase the number of iterations (max_iter) or scale the data as shown in:\n",
      "    https://scikit-learn.org/stable/modules/preprocessing.html\n",
      "Please also refer to the documentation for alternative solver options:\n",
      "    https://scikit-learn.org/stable/modules/linear_model.html#logistic-regression\n",
      "  n_iter_i = _check_optimize_result(\n"
     ]
    },
    {
     "name": "stdout",
     "output_type": "stream",
     "text": [
      "0.83864\n"
     ]
    },
    {
     "name": "stderr",
     "output_type": "stream",
     "text": [
      "c:\\Users\\ouedr\\anaconda3\\lib\\site-packages\\sklearn\\linear_model\\_logistic.py:458: ConvergenceWarning: lbfgs failed to converge (status=1):\n",
      "STOP: TOTAL NO. of ITERATIONS REACHED LIMIT.\n",
      "\n",
      "Increase the number of iterations (max_iter) or scale the data as shown in:\n",
      "    https://scikit-learn.org/stable/modules/preprocessing.html\n",
      "Please also refer to the documentation for alternative solver options:\n",
      "    https://scikit-learn.org/stable/modules/linear_model.html#logistic-regression\n",
      "  n_iter_i = _check_optimize_result(\n",
      "c:\\Users\\ouedr\\anaconda3\\lib\\site-packages\\sklearn\\linear_model\\_logistic.py:458: ConvergenceWarning: lbfgs failed to converge (status=1):\n",
      "STOP: TOTAL NO. of ITERATIONS REACHED LIMIT.\n",
      "\n",
      "Increase the number of iterations (max_iter) or scale the data as shown in:\n",
      "    https://scikit-learn.org/stable/modules/preprocessing.html\n",
      "Please also refer to the documentation for alternative solver options:\n",
      "    https://scikit-learn.org/stable/modules/linear_model.html#logistic-regression\n",
      "  n_iter_i = _check_optimize_result(\n",
      "c:\\Users\\ouedr\\anaconda3\\lib\\site-packages\\sklearn\\linear_model\\_logistic.py:458: ConvergenceWarning: lbfgs failed to converge (status=1):\n",
      "STOP: TOTAL NO. of ITERATIONS REACHED LIMIT.\n",
      "\n",
      "Increase the number of iterations (max_iter) or scale the data as shown in:\n",
      "    https://scikit-learn.org/stable/modules/preprocessing.html\n",
      "Please also refer to the documentation for alternative solver options:\n",
      "    https://scikit-learn.org/stable/modules/linear_model.html#logistic-regression\n",
      "  n_iter_i = _check_optimize_result(\n",
      "c:\\Users\\ouedr\\anaconda3\\lib\\site-packages\\sklearn\\linear_model\\_logistic.py:458: ConvergenceWarning: lbfgs failed to converge (status=1):\n",
      "STOP: TOTAL NO. of ITERATIONS REACHED LIMIT.\n",
      "\n",
      "Increase the number of iterations (max_iter) or scale the data as shown in:\n",
      "    https://scikit-learn.org/stable/modules/preprocessing.html\n",
      "Please also refer to the documentation for alternative solver options:\n",
      "    https://scikit-learn.org/stable/modules/linear_model.html#logistic-regression\n",
      "  n_iter_i = _check_optimize_result(\n"
     ]
    },
    {
     "name": "stdout",
     "output_type": "stream",
     "text": [
      "Score de classification: 0.8309999999999998 (std 0.004766550115125172)\n"
     ]
    },
    {
     "name": "stderr",
     "output_type": "stream",
     "text": [
      "c:\\Users\\ouedr\\anaconda3\\lib\\site-packages\\sklearn\\linear_model\\_logistic.py:458: ConvergenceWarning: lbfgs failed to converge (status=1):\n",
      "STOP: TOTAL NO. of ITERATIONS REACHED LIMIT.\n",
      "\n",
      "Increase the number of iterations (max_iter) or scale the data as shown in:\n",
      "    https://scikit-learn.org/stable/modules/preprocessing.html\n",
      "Please also refer to the documentation for alternative solver options:\n",
      "    https://scikit-learn.org/stable/modules/linear_model.html#logistic-regression\n",
      "  n_iter_i = _check_optimize_result(\n"
     ]
    }
   ],
   "source": [
    "from sklearn.linear_model import LogisticRegression\n",
    "from sklearn.model_selection import cross_val_score\n",
    "\n",
    "# Exemple avec les embeddings obtenus via Glove\n",
    "rep = sentence_representations(texts, vocab_5k, GloveEmbeddings)\n",
    "clf = LogisticRegression().fit(rep[::2], y[::2])\n",
    "print(clf.score(rep[1::2], y[1::2]))\n",
    "\n",
    "scores = cross_val_score(clf, rep, y, cv=5)\n",
    "print('Score de classification: %s (std %s)' % (np.mean(scores), np.std(scores)))"
   ]
  },
  {
   "cell_type": "code",
   "execution_count": 43,
   "metadata": {},
   "outputs": [
    {
     "name": "stderr",
     "output_type": "stream",
     "text": [
      "c:\\Users\\ouedr\\anaconda3\\lib\\site-packages\\sklearn\\linear_model\\_logistic.py:458: ConvergenceWarning: lbfgs failed to converge (status=1):\n",
      "STOP: TOTAL NO. of ITERATIONS REACHED LIMIT.\n",
      "\n",
      "Increase the number of iterations (max_iter) or scale the data as shown in:\n",
      "    https://scikit-learn.org/stable/modules/preprocessing.html\n",
      "Please also refer to the documentation for alternative solver options:\n",
      "    https://scikit-learn.org/stable/modules/linear_model.html#logistic-regression\n",
      "  n_iter_i = _check_optimize_result(\n"
     ]
    },
    {
     "name": "stdout",
     "output_type": "stream",
     "text": [
      "0.62008\n"
     ]
    },
    {
     "name": "stderr",
     "output_type": "stream",
     "text": [
      "c:\\Users\\ouedr\\anaconda3\\lib\\site-packages\\sklearn\\linear_model\\_logistic.py:458: ConvergenceWarning: lbfgs failed to converge (status=1):\n",
      "STOP: TOTAL NO. of ITERATIONS REACHED LIMIT.\n",
      "\n",
      "Increase the number of iterations (max_iter) or scale the data as shown in:\n",
      "    https://scikit-learn.org/stable/modules/preprocessing.html\n",
      "Please also refer to the documentation for alternative solver options:\n",
      "    https://scikit-learn.org/stable/modules/linear_model.html#logistic-regression\n",
      "  n_iter_i = _check_optimize_result(\n",
      "c:\\Users\\ouedr\\anaconda3\\lib\\site-packages\\sklearn\\linear_model\\_logistic.py:458: ConvergenceWarning: lbfgs failed to converge (status=1):\n",
      "STOP: TOTAL NO. of ITERATIONS REACHED LIMIT.\n",
      "\n",
      "Increase the number of iterations (max_iter) or scale the data as shown in:\n",
      "    https://scikit-learn.org/stable/modules/preprocessing.html\n",
      "Please also refer to the documentation for alternative solver options:\n",
      "    https://scikit-learn.org/stable/modules/linear_model.html#logistic-regression\n",
      "  n_iter_i = _check_optimize_result(\n",
      "c:\\Users\\ouedr\\anaconda3\\lib\\site-packages\\sklearn\\linear_model\\_logistic.py:458: ConvergenceWarning: lbfgs failed to converge (status=1):\n",
      "STOP: TOTAL NO. of ITERATIONS REACHED LIMIT.\n",
      "\n",
      "Increase the number of iterations (max_iter) or scale the data as shown in:\n",
      "    https://scikit-learn.org/stable/modules/preprocessing.html\n",
      "Please also refer to the documentation for alternative solver options:\n",
      "    https://scikit-learn.org/stable/modules/linear_model.html#logistic-regression\n",
      "  n_iter_i = _check_optimize_result(\n",
      "c:\\Users\\ouedr\\anaconda3\\lib\\site-packages\\sklearn\\linear_model\\_logistic.py:458: ConvergenceWarning: lbfgs failed to converge (status=1):\n",
      "STOP: TOTAL NO. of ITERATIONS REACHED LIMIT.\n",
      "\n",
      "Increase the number of iterations (max_iter) or scale the data as shown in:\n",
      "    https://scikit-learn.org/stable/modules/preprocessing.html\n",
      "Please also refer to the documentation for alternative solver options:\n",
      "    https://scikit-learn.org/stable/modules/linear_model.html#logistic-regression\n",
      "  n_iter_i = _check_optimize_result(\n"
     ]
    },
    {
     "name": "stdout",
     "output_type": "stream",
     "text": [
      "Score de classification: 0.62212 (std 0.009050613238891603)\n"
     ]
    },
    {
     "name": "stderr",
     "output_type": "stream",
     "text": [
      "c:\\Users\\ouedr\\anaconda3\\lib\\site-packages\\sklearn\\linear_model\\_logistic.py:458: ConvergenceWarning: lbfgs failed to converge (status=1):\n",
      "STOP: TOTAL NO. of ITERATIONS REACHED LIMIT.\n",
      "\n",
      "Increase the number of iterations (max_iter) or scale the data as shown in:\n",
      "    https://scikit-learn.org/stable/modules/preprocessing.html\n",
      "Please also refer to the documentation for alternative solver options:\n",
      "    https://scikit-learn.org/stable/modules/linear_model.html#logistic-regression\n",
      "  n_iter_i = _check_optimize_result(\n"
     ]
    }
   ],
   "source": [
    "# Exemple avec les embeddings obtenus via SVD\n",
    "rep = sentence_representations(texts, vocab_5k, SVDEmbeddings)\n",
    "clf = LogisticRegression().fit(rep[::2], y[::2])\n",
    "print(clf.score(rep[1::2], y[1::2]))\n",
    "\n",
    "scores = cross_val_score(clf, rep, y, cv=5)\n",
    "print('Score de classification: %s (std %s)' % (np.mean(scores), np.std(scores)))"
   ]
  },
  {
   "cell_type": "code",
   "execution_count": 40,
   "metadata": {},
   "outputs": [
    {
     "name": "stderr",
     "output_type": "stream",
     "text": [
      "c:\\Users\\ouedr\\anaconda3\\lib\\site-packages\\sklearn\\linear_model\\_logistic.py:458: ConvergenceWarning: lbfgs failed to converge (status=1):\n",
      "STOP: TOTAL NO. of ITERATIONS REACHED LIMIT.\n",
      "\n",
      "Increase the number of iterations (max_iter) or scale the data as shown in:\n",
      "    https://scikit-learn.org/stable/modules/preprocessing.html\n",
      "Please also refer to the documentation for alternative solver options:\n",
      "    https://scikit-learn.org/stable/modules/linear_model.html#logistic-regression\n",
      "  n_iter_i = _check_optimize_result(\n"
     ]
    },
    {
     "name": "stdout",
     "output_type": "stream",
     "text": [
      "0.83312\n"
     ]
    },
    {
     "name": "stderr",
     "output_type": "stream",
     "text": [
      "c:\\Users\\ouedr\\anaconda3\\lib\\site-packages\\sklearn\\linear_model\\_logistic.py:458: ConvergenceWarning: lbfgs failed to converge (status=1):\n",
      "STOP: TOTAL NO. of ITERATIONS REACHED LIMIT.\n",
      "\n",
      "Increase the number of iterations (max_iter) or scale the data as shown in:\n",
      "    https://scikit-learn.org/stable/modules/preprocessing.html\n",
      "Please also refer to the documentation for alternative solver options:\n",
      "    https://scikit-learn.org/stable/modules/linear_model.html#logistic-regression\n",
      "  n_iter_i = _check_optimize_result(\n",
      "c:\\Users\\ouedr\\anaconda3\\lib\\site-packages\\sklearn\\linear_model\\_logistic.py:458: ConvergenceWarning: lbfgs failed to converge (status=1):\n",
      "STOP: TOTAL NO. of ITERATIONS REACHED LIMIT.\n",
      "\n",
      "Increase the number of iterations (max_iter) or scale the data as shown in:\n",
      "    https://scikit-learn.org/stable/modules/preprocessing.html\n",
      "Please also refer to the documentation for alternative solver options:\n",
      "    https://scikit-learn.org/stable/modules/linear_model.html#logistic-regression\n",
      "  n_iter_i = _check_optimize_result(\n",
      "c:\\Users\\ouedr\\anaconda3\\lib\\site-packages\\sklearn\\linear_model\\_logistic.py:458: ConvergenceWarning: lbfgs failed to converge (status=1):\n",
      "STOP: TOTAL NO. of ITERATIONS REACHED LIMIT.\n",
      "\n",
      "Increase the number of iterations (max_iter) or scale the data as shown in:\n",
      "    https://scikit-learn.org/stable/modules/preprocessing.html\n",
      "Please also refer to the documentation for alternative solver options:\n",
      "    https://scikit-learn.org/stable/modules/linear_model.html#logistic-regression\n",
      "  n_iter_i = _check_optimize_result(\n",
      "c:\\Users\\ouedr\\anaconda3\\lib\\site-packages\\sklearn\\linear_model\\_logistic.py:458: ConvergenceWarning: lbfgs failed to converge (status=1):\n",
      "STOP: TOTAL NO. of ITERATIONS REACHED LIMIT.\n",
      "\n",
      "Increase the number of iterations (max_iter) or scale the data as shown in:\n",
      "    https://scikit-learn.org/stable/modules/preprocessing.html\n",
      "Please also refer to the documentation for alternative solver options:\n",
      "    https://scikit-learn.org/stable/modules/linear_model.html#logistic-regression\n",
      "  n_iter_i = _check_optimize_result(\n"
     ]
    },
    {
     "name": "stdout",
     "output_type": "stream",
     "text": [
      "Score de classification: 0.83008 (std 0.002643028565869106)\n"
     ]
    },
    {
     "name": "stderr",
     "output_type": "stream",
     "text": [
      "c:\\Users\\ouedr\\anaconda3\\lib\\site-packages\\sklearn\\linear_model\\_logistic.py:458: ConvergenceWarning: lbfgs failed to converge (status=1):\n",
      "STOP: TOTAL NO. of ITERATIONS REACHED LIMIT.\n",
      "\n",
      "Increase the number of iterations (max_iter) or scale the data as shown in:\n",
      "    https://scikit-learn.org/stable/modules/preprocessing.html\n",
      "Please also refer to the documentation for alternative solver options:\n",
      "    https://scikit-learn.org/stable/modules/linear_model.html#logistic-regression\n",
      "  n_iter_i = _check_optimize_result(\n"
     ]
    }
   ],
   "source": [
    "# Exemple avec les embeddings obtenus via Word2vec\n",
    "rep = sentence_representations(texts, vocab_5k, W2VEmbeddings)\n",
    "clf = LogisticRegression().fit(rep[::2], y[::2])\n",
    "print(clf.score(rep[1::2], y[1::2]))\n",
    "\n",
    "scores = cross_val_score(clf, rep, y, cv=5)\n",
    "print('Score de classification: %s (std %s)' % (np.mean(scores), np.std(scores)))"
   ]
  },
  {
   "cell_type": "markdown",
   "metadata": {},
   "source": [
    "<div class='alert alert-block alert-warning'>\n",
    "            Questions:</div>\n",
    "\n",
    "You can know compare the various sets of embeddings, and answer the following questions:\n",
    "- Why could we expect that the results obtained with embeddings pre-trained with Glove are better than others ? Is that verified ? And what changes if we remove the constraint of having the same 5000 words vocabulary as the other methods ? \n",
    "- Which matrix that we can reduce the dimension of gives the best results ? "
   ]
  },
  {
   "attachments": {},
   "cell_type": "markdown",
   "metadata": {},
   "source": [
    "The reason we could expect better result with Glove is that it is pre-trained on a huge amount of data, so it could take into account semantic and syntactic words' relationships in order to get good representations. It is often used in NLP tasks because it doesn't take into account only the co-occurence of words but it also considers the importance of the pointwise mutual information. \\\n",
    "Yes it verified as it has the highest score (0.83864) of the sentence representation compared to the other embeddings methods (SVD : 0.62, Word2Vec : 0.83312).\\"
   ]
  },
  {
   "cell_type": "code",
   "execution_count": 63,
   "metadata": {},
   "outputs": [
    {
     "name": "stdout",
     "output_type": "stream",
     "text": [
      "(93231, 300)\n"
     ]
    }
   ],
   "source": [
    "vocab_all, word_counts_all = vocabulary(texts, 0, 0)\n",
    "GloveEmbeddings_all = get_glove_adapted_embeddings(loaded_glove_model, vocab_all)\n",
    "print(GloveEmbeddings_all.shape)"
   ]
  },
  {
   "cell_type": "code",
   "execution_count": 46,
   "metadata": {},
   "outputs": [
    {
     "name": "stderr",
     "output_type": "stream",
     "text": [
      "c:\\Users\\ouedr\\anaconda3\\lib\\site-packages\\sklearn\\linear_model\\_logistic.py:458: ConvergenceWarning: lbfgs failed to converge (status=1):\n",
      "STOP: TOTAL NO. of ITERATIONS REACHED LIMIT.\n",
      "\n",
      "Increase the number of iterations (max_iter) or scale the data as shown in:\n",
      "    https://scikit-learn.org/stable/modules/preprocessing.html\n",
      "Please also refer to the documentation for alternative solver options:\n",
      "    https://scikit-learn.org/stable/modules/linear_model.html#logistic-regression\n",
      "  n_iter_i = _check_optimize_result(\n"
     ]
    },
    {
     "name": "stdout",
     "output_type": "stream",
     "text": [
      "0.83896\n"
     ]
    },
    {
     "name": "stderr",
     "output_type": "stream",
     "text": [
      "c:\\Users\\ouedr\\anaconda3\\lib\\site-packages\\sklearn\\linear_model\\_logistic.py:458: ConvergenceWarning: lbfgs failed to converge (status=1):\n",
      "STOP: TOTAL NO. of ITERATIONS REACHED LIMIT.\n",
      "\n",
      "Increase the number of iterations (max_iter) or scale the data as shown in:\n",
      "    https://scikit-learn.org/stable/modules/preprocessing.html\n",
      "Please also refer to the documentation for alternative solver options:\n",
      "    https://scikit-learn.org/stable/modules/linear_model.html#logistic-regression\n",
      "  n_iter_i = _check_optimize_result(\n",
      "c:\\Users\\ouedr\\anaconda3\\lib\\site-packages\\sklearn\\linear_model\\_logistic.py:458: ConvergenceWarning: lbfgs failed to converge (status=1):\n",
      "STOP: TOTAL NO. of ITERATIONS REACHED LIMIT.\n",
      "\n",
      "Increase the number of iterations (max_iter) or scale the data as shown in:\n",
      "    https://scikit-learn.org/stable/modules/preprocessing.html\n",
      "Please also refer to the documentation for alternative solver options:\n",
      "    https://scikit-learn.org/stable/modules/linear_model.html#logistic-regression\n",
      "  n_iter_i = _check_optimize_result(\n",
      "c:\\Users\\ouedr\\anaconda3\\lib\\site-packages\\sklearn\\linear_model\\_logistic.py:458: ConvergenceWarning: lbfgs failed to converge (status=1):\n",
      "STOP: TOTAL NO. of ITERATIONS REACHED LIMIT.\n",
      "\n",
      "Increase the number of iterations (max_iter) or scale the data as shown in:\n",
      "    https://scikit-learn.org/stable/modules/preprocessing.html\n",
      "Please also refer to the documentation for alternative solver options:\n",
      "    https://scikit-learn.org/stable/modules/linear_model.html#logistic-regression\n",
      "  n_iter_i = _check_optimize_result(\n",
      "c:\\Users\\ouedr\\anaconda3\\lib\\site-packages\\sklearn\\linear_model\\_logistic.py:458: ConvergenceWarning: lbfgs failed to converge (status=1):\n",
      "STOP: TOTAL NO. of ITERATIONS REACHED LIMIT.\n",
      "\n",
      "Increase the number of iterations (max_iter) or scale the data as shown in:\n",
      "    https://scikit-learn.org/stable/modules/preprocessing.html\n",
      "Please also refer to the documentation for alternative solver options:\n",
      "    https://scikit-learn.org/stable/modules/linear_model.html#logistic-regression\n",
      "  n_iter_i = _check_optimize_result(\n"
     ]
    },
    {
     "name": "stdout",
     "output_type": "stream",
     "text": [
      "Score de classification: 0.83088 (std 0.008500917597530295)\n"
     ]
    },
    {
     "name": "stderr",
     "output_type": "stream",
     "text": [
      "c:\\Users\\ouedr\\anaconda3\\lib\\site-packages\\sklearn\\linear_model\\_logistic.py:458: ConvergenceWarning: lbfgs failed to converge (status=1):\n",
      "STOP: TOTAL NO. of ITERATIONS REACHED LIMIT.\n",
      "\n",
      "Increase the number of iterations (max_iter) or scale the data as shown in:\n",
      "    https://scikit-learn.org/stable/modules/preprocessing.html\n",
      "Please also refer to the documentation for alternative solver options:\n",
      "    https://scikit-learn.org/stable/modules/linear_model.html#logistic-regression\n",
      "  n_iter_i = _check_optimize_result(\n"
     ]
    }
   ],
   "source": [
    "# Exemple avec les embeddings obtenus via Glove\n",
    "rep = sentence_representations(texts, vocab_all, GloveEmbeddings_all)\n",
    "clf = LogisticRegression().fit(rep[::2], y[::2])\n",
    "print(clf.score(rep[1::2], y[1::2]))\n",
    "\n",
    "scores = cross_val_score(clf, rep, y, cv=5)\n",
    "print('Score de classification: %s (std %s)' % (np.mean(scores), np.std(scores)))"
   ]
  },
  {
   "attachments": {},
   "cell_type": "markdown",
   "metadata": {},
   "source": [
    "Nothing really changes, we still have the same score of 0.83 when we change the 5000 words vocabulary constraint to 3000 or 10000. Even when we remove the constraint of words limit, there is no major change in the quality of the sentence representation. Glove seems to not care about words with lower frequencies as adding them does not change the results."
   ]
  },
  {
   "cell_type": "code",
   "execution_count": 77,
   "metadata": {},
   "outputs": [
    {
     "name": "stderr",
     "output_type": "stream",
     "text": [
      "c:\\Users\\ouedr\\anaconda3\\lib\\site-packages\\sklearn\\linear_model\\_logistic.py:458: ConvergenceWarning: lbfgs failed to converge (status=1):\n",
      "STOP: TOTAL NO. of ITERATIONS REACHED LIMIT.\n",
      "\n",
      "Increase the number of iterations (max_iter) or scale the data as shown in:\n",
      "    https://scikit-learn.org/stable/modules/preprocessing.html\n",
      "Please also refer to the documentation for alternative solver options:\n",
      "    https://scikit-learn.org/stable/modules/linear_model.html#logistic-regression\n",
      "  n_iter_i = _check_optimize_result(\n"
     ]
    },
    {
     "name": "stdout",
     "output_type": "stream",
     "text": [
      "0.83552\n"
     ]
    },
    {
     "name": "stderr",
     "output_type": "stream",
     "text": [
      "c:\\Users\\ouedr\\anaconda3\\lib\\site-packages\\sklearn\\linear_model\\_logistic.py:458: ConvergenceWarning: lbfgs failed to converge (status=1):\n",
      "STOP: TOTAL NO. of ITERATIONS REACHED LIMIT.\n",
      "\n",
      "Increase the number of iterations (max_iter) or scale the data as shown in:\n",
      "    https://scikit-learn.org/stable/modules/preprocessing.html\n",
      "Please also refer to the documentation for alternative solver options:\n",
      "    https://scikit-learn.org/stable/modules/linear_model.html#logistic-regression\n",
      "  n_iter_i = _check_optimize_result(\n",
      "c:\\Users\\ouedr\\anaconda3\\lib\\site-packages\\sklearn\\linear_model\\_logistic.py:458: ConvergenceWarning: lbfgs failed to converge (status=1):\n",
      "STOP: TOTAL NO. of ITERATIONS REACHED LIMIT.\n",
      "\n",
      "Increase the number of iterations (max_iter) or scale the data as shown in:\n",
      "    https://scikit-learn.org/stable/modules/preprocessing.html\n",
      "Please also refer to the documentation for alternative solver options:\n",
      "    https://scikit-learn.org/stable/modules/linear_model.html#logistic-regression\n",
      "  n_iter_i = _check_optimize_result(\n",
      "c:\\Users\\ouedr\\anaconda3\\lib\\site-packages\\sklearn\\linear_model\\_logistic.py:458: ConvergenceWarning: lbfgs failed to converge (status=1):\n",
      "STOP: TOTAL NO. of ITERATIONS REACHED LIMIT.\n",
      "\n",
      "Increase the number of iterations (max_iter) or scale the data as shown in:\n",
      "    https://scikit-learn.org/stable/modules/preprocessing.html\n",
      "Please also refer to the documentation for alternative solver options:\n",
      "    https://scikit-learn.org/stable/modules/linear_model.html#logistic-regression\n",
      "  n_iter_i = _check_optimize_result(\n",
      "c:\\Users\\ouedr\\anaconda3\\lib\\site-packages\\sklearn\\linear_model\\_logistic.py:458: ConvergenceWarning: lbfgs failed to converge (status=1):\n",
      "STOP: TOTAL NO. of ITERATIONS REACHED LIMIT.\n",
      "\n",
      "Increase the number of iterations (max_iter) or scale the data as shown in:\n",
      "    https://scikit-learn.org/stable/modules/preprocessing.html\n",
      "Please also refer to the documentation for alternative solver options:\n",
      "    https://scikit-learn.org/stable/modules/linear_model.html#logistic-regression\n",
      "  n_iter_i = _check_optimize_result(\n"
     ]
    },
    {
     "name": "stdout",
     "output_type": "stream",
     "text": [
      "Score de classification: 0.8286399999999998 (std 0.005471964912168178)\n"
     ]
    },
    {
     "name": "stderr",
     "output_type": "stream",
     "text": [
      "c:\\Users\\ouedr\\anaconda3\\lib\\site-packages\\sklearn\\linear_model\\_logistic.py:458: ConvergenceWarning: lbfgs failed to converge (status=1):\n",
      "STOP: TOTAL NO. of ITERATIONS REACHED LIMIT.\n",
      "\n",
      "Increase the number of iterations (max_iter) or scale the data as shown in:\n",
      "    https://scikit-learn.org/stable/modules/preprocessing.html\n",
      "Please also refer to the documentation for alternative solver options:\n",
      "    https://scikit-learn.org/stable/modules/linear_model.html#logistic-regression\n",
      "  n_iter_i = _check_optimize_result(\n"
     ]
    }
   ],
   "source": [
    "svd = TruncatedSVD(n_components=200)\n",
    "SVDEmbeddings_glove = svd.fit_transform(GloveEmbeddings)\n",
    "rep = sentence_representations(texts, vocab_5k, SVDEmbeddings_glove)\n",
    "clf = LogisticRegression().fit(rep[::2], y[::2])\n",
    "print(clf.score(rep[1::2], y[1::2]))\n",
    "\n",
    "scores = cross_val_score(clf, rep, y, cv=5)\n",
    "print('Score de classification: %s (std %s)' % (np.mean(scores), np.std(scores)))"
   ]
  },
  {
   "cell_type": "code",
   "execution_count": 78,
   "metadata": {},
   "outputs": [
    {
     "name": "stderr",
     "output_type": "stream",
     "text": [
      "c:\\Users\\ouedr\\anaconda3\\lib\\site-packages\\sklearn\\linear_model\\_logistic.py:458: ConvergenceWarning: lbfgs failed to converge (status=1):\n",
      "STOP: TOTAL NO. of ITERATIONS REACHED LIMIT.\n",
      "\n",
      "Increase the number of iterations (max_iter) or scale the data as shown in:\n",
      "    https://scikit-learn.org/stable/modules/preprocessing.html\n",
      "Please also refer to the documentation for alternative solver options:\n",
      "    https://scikit-learn.org/stable/modules/linear_model.html#logistic-regression\n",
      "  n_iter_i = _check_optimize_result(\n"
     ]
    },
    {
     "name": "stdout",
     "output_type": "stream",
     "text": [
      "0.82488\n"
     ]
    },
    {
     "name": "stderr",
     "output_type": "stream",
     "text": [
      "c:\\Users\\ouedr\\anaconda3\\lib\\site-packages\\sklearn\\linear_model\\_logistic.py:458: ConvergenceWarning: lbfgs failed to converge (status=1):\n",
      "STOP: TOTAL NO. of ITERATIONS REACHED LIMIT.\n",
      "\n",
      "Increase the number of iterations (max_iter) or scale the data as shown in:\n",
      "    https://scikit-learn.org/stable/modules/preprocessing.html\n",
      "Please also refer to the documentation for alternative solver options:\n",
      "    https://scikit-learn.org/stable/modules/linear_model.html#logistic-regression\n",
      "  n_iter_i = _check_optimize_result(\n",
      "c:\\Users\\ouedr\\anaconda3\\lib\\site-packages\\sklearn\\linear_model\\_logistic.py:458: ConvergenceWarning: lbfgs failed to converge (status=1):\n",
      "STOP: TOTAL NO. of ITERATIONS REACHED LIMIT.\n",
      "\n",
      "Increase the number of iterations (max_iter) or scale the data as shown in:\n",
      "    https://scikit-learn.org/stable/modules/preprocessing.html\n",
      "Please also refer to the documentation for alternative solver options:\n",
      "    https://scikit-learn.org/stable/modules/linear_model.html#logistic-regression\n",
      "  n_iter_i = _check_optimize_result(\n",
      "c:\\Users\\ouedr\\anaconda3\\lib\\site-packages\\sklearn\\linear_model\\_logistic.py:458: ConvergenceWarning: lbfgs failed to converge (status=1):\n",
      "STOP: TOTAL NO. of ITERATIONS REACHED LIMIT.\n",
      "\n",
      "Increase the number of iterations (max_iter) or scale the data as shown in:\n",
      "    https://scikit-learn.org/stable/modules/preprocessing.html\n",
      "Please also refer to the documentation for alternative solver options:\n",
      "    https://scikit-learn.org/stable/modules/linear_model.html#logistic-regression\n",
      "  n_iter_i = _check_optimize_result(\n",
      "c:\\Users\\ouedr\\anaconda3\\lib\\site-packages\\sklearn\\linear_model\\_logistic.py:458: ConvergenceWarning: lbfgs failed to converge (status=1):\n",
      "STOP: TOTAL NO. of ITERATIONS REACHED LIMIT.\n",
      "\n",
      "Increase the number of iterations (max_iter) or scale the data as shown in:\n",
      "    https://scikit-learn.org/stable/modules/preprocessing.html\n",
      "Please also refer to the documentation for alternative solver options:\n",
      "    https://scikit-learn.org/stable/modules/linear_model.html#logistic-regression\n",
      "  n_iter_i = _check_optimize_result(\n"
     ]
    },
    {
     "name": "stdout",
     "output_type": "stream",
     "text": [
      "Score de classification: 0.8193999999999999 (std 0.002920273959751053)\n"
     ]
    },
    {
     "name": "stderr",
     "output_type": "stream",
     "text": [
      "c:\\Users\\ouedr\\anaconda3\\lib\\site-packages\\sklearn\\linear_model\\_logistic.py:458: ConvergenceWarning: lbfgs failed to converge (status=1):\n",
      "STOP: TOTAL NO. of ITERATIONS REACHED LIMIT.\n",
      "\n",
      "Increase the number of iterations (max_iter) or scale the data as shown in:\n",
      "    https://scikit-learn.org/stable/modules/preprocessing.html\n",
      "Please also refer to the documentation for alternative solver options:\n",
      "    https://scikit-learn.org/stable/modules/linear_model.html#logistic-regression\n",
      "  n_iter_i = _check_optimize_result(\n"
     ]
    }
   ],
   "source": [
    "svd = TruncatedSVD(n_components=200)\n",
    "SVDEmbeddings_w2v = svd.fit_transform(W2VEmbeddings)\n",
    "rep = sentence_representations(texts, vocab_5k, SVDEmbeddings_w2v)\n",
    "clf = LogisticRegression().fit(rep[::2], y[::2])\n",
    "print(clf.score(rep[1::2], y[1::2]))\n",
    "\n",
    "scores = cross_val_score(clf, rep, y, cv=5)\n",
    "print('Score de classification: %s (std %s)' % (np.mean(scores), np.std(scores)))"
   ]
  },
  {
   "attachments": {},
   "cell_type": "markdown",
   "metadata": {},
   "source": [
    "AS we tried to run glove and word2vec embeddings while reducing the dimension to 200 features, we can notice that he Glove matrix gives the best results with and without this reduction. "
   ]
  },
  {
   "cell_type": "markdown",
   "metadata": {},
   "source": []
  },
  {
   "cell_type": "markdown",
   "metadata": {},
   "source": []
  },
  {
   "cell_type": "markdown",
   "metadata": {},
   "source": [
    "# Semantic Textual Similarity\n",
    "\n",
    "We will now use these representations for Semantic Textual Similarity, following the previous lab."
   ]
  },
  {
   "cell_type": "code",
   "execution_count": 1,
   "metadata": {},
   "outputs": [],
   "source": [
    "from scipy.spatial.distance import cosine\n",
    "from scipy.stats import spearmanr\n",
    "from sklearn.linear_model import LinearRegression"
   ]
  },
  {
   "cell_type": "code",
   "execution_count": 6,
   "metadata": {},
   "outputs": [],
   "source": [
    "def load_data(path):\n",
    "    data = {'train':dict(), 'test':dict()}\n",
    "    for fn in os.listdir(path):\n",
    "        if fn.endswith(\".csv\"):\n",
    "            with open(os.path.join(path, fn)) as f:\n",
    "                subset = fn[:-4].split(\"-\")[1]        \n",
    "                if subset == \"dev\":\n",
    "                    subset = \"train\"        \n",
    "                data[subset]['data'] = []\n",
    "                data[subset]['scores'] = []\n",
    "                for l in f:          \n",
    "                    l = l.strip().split(\"\\t\")          \n",
    "                    data[subset]['data'].append((l[5],l[6]))\n",
    "                    data[subset]['scores'].append(float(l[4]) / 5) # mapping the score to the 0-1 range \n",
    "    return data\n",
    "\n",
    "sts_dataset = load_data(path=\"stsbenchmark\")"
   ]
  },
  {
   "cell_type": "markdown",
   "metadata": {},
   "source": [
    "The goal is now, again, to:\n",
    "- Obtain vector representations of the sentences\n",
    "- Compute their cosine distance\n",
    "- Fit a regressor to predict the similarity score\n",
    "- Predict the scores for the test data and compare it to the gold scores using Spearman correlation (```spearmanr```)\n",
    "\n",
    "To obtain vector representations, use the functions we previously created used (notably ```sentence_representations```), and experiment with:\n",
    "- the co-occurence matrix\n",
    "- the PPMI matrix\n",
    "- the PPMI matrix SVD-reduced\n",
    "- the glove vectors\n",
    "\n",
    "<div class='alert alert-block alert-info'>\n",
    "            Code:</div>"
   ]
  },
  {
   "cell_type": "code",
   "execution_count": 8,
   "metadata": {},
   "outputs": [
    {
     "name": "stdout",
     "output_type": "stream",
     "text": [
      "11319\n"
     ]
    }
   ],
   "source": [
    "# build a vocabulary from the STS training set\n",
    "corps = []\n",
    "for tupl in sts_dataset['train']['data']:\n",
    "    corps.append(tupl[0])\n",
    "    corps.append(tupl[1])\n",
    "\n",
    "sts_voc, sts_counts = vocabulary(corps,0,20000)\n",
    "# Create a co-occurrence matrix\n",
    "M_co_oc_sts = co_occurence_matrix(corps, sts_voc, 5, True)\n",
    "print(len(sts_voc))"
   ]
  },
  {
   "cell_type": "code",
   "execution_count": 9,
   "metadata": {},
   "outputs": [
    {
     "data": {
      "text/plain": [
       "5749"
      ]
     },
     "execution_count": 9,
     "metadata": {},
     "output_type": "execute_result"
    }
   ],
   "source": [
    "len(sts_dataset['train']['data'])"
   ]
  },
  {
   "cell_type": "code",
   "execution_count": 42,
   "metadata": {},
   "outputs": [
    {
     "name": "stdout",
     "output_type": "stream",
     "text": [
      "Plus proches voisins de good selon la distance 'euclidean': \n",
      "[['memorials', 'healthpark', 'skijoring', 'maintains', 'meditating', 'praying', 'hiking', 'mooing', 'levitating']]\n",
      "Plus proches voisins de good selon la distance 'cosine': \n",
      "[['memorials', 'healthpark', 'suspicions', 'discussions', 'engage', 'maintains', 'campus', 'confusing', 'listed']]\n",
      "(10001, 300)\n",
      "Plus proches voisins de good selon la distance 'euclidean': \n",
      "[['nugent', 'mental', 'graham', 'brazen', 'listed', 'discovery', 'firefighter', 'foxe', 'richard']]\n",
      "Plus proches voisins de good selon la distance 'cosine': \n",
      "[['nugent', 'neck', 'established', 'listed', 'firefighter', 'mental', 'discovery', 'registrars', 'graham']]\n"
     ]
    }
   ],
   "source": [
    "# Transform the matrix in different ways (for example, here: PMI weighting and dim reduction with SVD)\n",
    "pmi_sts = pmi(M_co_oc_sts)\n",
    "print_neighbors(euclidean, sts_voc, pmi_sts, 'good')\n",
    "print_neighbors(cosine, sts_voc, pmi_sts, 'good')\n",
    "\n",
    "\n",
    "from sklearn.decomposition import TruncatedSVD\n",
    "svd = TruncatedSVD(n_components=300)\n",
    "SVDEmbeddings = svd.fit_transform(M_co_oc_sts)\n",
    "print(SVDEmbeddings.shape)\n",
    "SVDEmbeddings[sts_voc['UNK']]\n",
    "\n",
    "print_neighbors(euclidean, sts_voc, SVDEmbeddings, 'good')\n",
    "print_neighbors(cosine, sts_voc, SVDEmbeddings, 'good')"
   ]
  },
  {
   "cell_type": "code",
   "execution_count": 55,
   "metadata": {},
   "outputs": [],
   "source": [
    "# Obtain the sentence pair representations and calculate their cosine distances to be used as features\n",
    "corps_a = []\n",
    "corps_b = []\n",
    "for tupl in sts_dataset['train']['data']:\n",
    "    corps_a.append(tupl[0])\n",
    "    corps_b.append(tupl[1])\n",
    "rep_a = sentence_representations(corps_a, sts_voc, SVDEmbeddings)\n",
    "rep_b = sentence_representations(corps_b, sts_voc, SVDEmbeddings)\n",
    "\n",
    "X_train = []\n",
    "for i in range(len(corps_a)):\n",
    "    cos_dist = cosine(rep_a[i], rep_b[i])\n",
    "    X_train.append(cos_dist)\n",
    "y_train = []\n",
    "for label in sts_dataset['train']['scores']:\n",
    "    y_train.append(label)\n"
   ]
  },
  {
   "cell_type": "code",
   "execution_count": 61,
   "metadata": {},
   "outputs": [
    {
     "name": "stdout",
     "output_type": "stream",
     "text": [
      "(5749, 1)\n",
      "(5749, 1)\n",
      "(1379, 1)\n",
      "(1379, 1)\n",
      "SignificanceResult(statistic=0.02726113028096696, pvalue=0.31172502489361603)\n"
     ]
    }
   ],
   "source": [
    "# Train a linear regression model, make predictions on test set, evaluate it using spearman's r\n",
    "lr = LinearRegression()\n",
    "X_train = np.asarray(X_train).reshape(-1, 1)\n",
    "y_train = np.asarray(y_train).reshape(-1, 1)\n",
    "print(X_train.shape)\n",
    "print(y_train.shape)\n",
    "lr.fit(X_train, y_train)\n",
    "\n",
    "\n",
    "### TEST\n",
    "corps_a = []\n",
    "corps_b = []\n",
    "for tupl in sts_dataset['test']['data']:\n",
    "    corps_a.append(tupl[0])\n",
    "    corps_b.append(tupl[1])\n",
    "rep_a = sentence_representations(corps_a, sts_voc, SVDEmbeddings)\n",
    "rep_b = sentence_representations(corps_b, sts_voc, SVDEmbeddings)\n",
    "\n",
    "X_test = []\n",
    "for i in range(len(corps_a)):\n",
    "    cos_dist = cosine(rep_a[i], rep_b[i])\n",
    "    X_test.append(cos_dist)\n",
    "y_test = []\n",
    "for label in sts_dataset['test']['scores']:\n",
    "    y_test.append(label)\n",
    "\n",
    "X_test = np.asarray(X_test).reshape(-1, 1)\n",
    "y_test = np.asarray(y_test).reshape(-1, 1)\n",
    "print(X_test.shape)\n",
    "print(y_test.shape)\n",
    "\n",
    "preds = lr.predict(X_test)\n",
    "\n",
    "print(spearmanr(preds, y_test))"
   ]
  },
  {
   "cell_type": "code",
   "execution_count": 62,
   "metadata": {},
   "outputs": [
    {
     "name": "stdout",
     "output_type": "stream",
     "text": [
      "(5749, 1)\n",
      "(5749, 1)\n",
      "(1379, 1)\n",
      "(1379, 1)\n",
      "SignificanceResult(statistic=0.245264291314739, pvalue=2.4396378856958903e-20)\n"
     ]
    }
   ],
   "source": [
    "# Same with PPMI matrix\n",
    "corps_a = []\n",
    "corps_b = []\n",
    "for tupl in sts_dataset['train']['data']:\n",
    "    corps_a.append(tupl[0])\n",
    "    corps_b.append(tupl[1])\n",
    "rep_a = sentence_representations(corps_a, sts_voc, pmi_sts)\n",
    "rep_b = sentence_representations(corps_b, sts_voc, pmi_sts)\n",
    "\n",
    "X_train = []\n",
    "for i in range(len(corps_a)):\n",
    "    cos_dist = cosine(rep_a[i], rep_b[i])\n",
    "    X_train.append(cos_dist)\n",
    "y_train = []\n",
    "for label in sts_dataset['train']['scores']:\n",
    "    y_train.append(label)\n",
    "\n",
    "### TEST\n",
    "corps_a = []\n",
    "corps_b = []\n",
    "for tupl in sts_dataset['test']['data']:\n",
    "    corps_a.append(tupl[0])\n",
    "    corps_b.append(tupl[1])\n",
    "rep_a = sentence_representations(corps_a, sts_voc, pmi_sts)\n",
    "rep_b = sentence_representations(corps_b, sts_voc, pmi_sts)\n",
    "\n",
    "X_test = []\n",
    "for i in range(len(corps_a)):\n",
    "    cos_dist = cosine(rep_a[i], rep_b[i])\n",
    "    X_test.append(cos_dist)\n",
    "y_test = []\n",
    "for label in sts_dataset['test']['scores']:\n",
    "    y_test.append(label)\n",
    "\n",
    "\n",
    "X_train = np.asarray(X_train).reshape(-1, 1)\n",
    "y_train = np.asarray(y_train).reshape(-1, 1)\n",
    "print(X_train.shape)\n",
    "print(y_train.shape)\n",
    "X_test = np.asarray(X_test).reshape(-1, 1)\n",
    "y_test = np.asarray(y_test).reshape(-1, 1)\n",
    "print(X_test.shape)\n",
    "print(y_test.shape)\n",
    "\n",
    "\n",
    "lr = LinearRegression()\n",
    "lr.fit(X_train, y_train)\n",
    "preds = lr.predict(X_test)\n",
    "\n",
    "print(spearmanr(preds, y_test))"
   ]
  },
  {
   "cell_type": "code",
   "execution_count": 64,
   "metadata": {},
   "outputs": [
    {
     "name": "stdout",
     "output_type": "stream",
     "text": [
      "(5749, 1)\n",
      "(5749, 1)\n",
      "(1379, 1)\n",
      "(1379, 1)\n",
      "SignificanceResult(statistic=0.1470994408850802, pvalue=4.0779152014904285e-08)\n"
     ]
    }
   ],
   "source": [
    "# Same with PPMI SVD-reduced matrix\n",
    "svd = TruncatedSVD(n_components=300)\n",
    "SVDEmbeddings_pmi = svd.fit_transform(pmi_sts)\n",
    "\n",
    "\n",
    "corps_a = []\n",
    "corps_b = []\n",
    "for tupl in sts_dataset['train']['data']:\n",
    "    corps_a.append(tupl[0])\n",
    "    corps_b.append(tupl[1])\n",
    "rep_a = sentence_representations(corps_a, sts_voc, SVDEmbeddings_pmi)\n",
    "rep_b = sentence_representations(corps_b, sts_voc, SVDEmbeddings_pmi)\n",
    "\n",
    "X_train = []\n",
    "for i in range(len(corps_a)):\n",
    "    cos_dist = cosine(rep_a[i], rep_b[i])\n",
    "    X_train.append(cos_dist)\n",
    "y_train = []\n",
    "for label in sts_dataset['train']['scores']:\n",
    "    y_train.append(label)\n",
    "\n",
    "### TEST\n",
    "corps_a = []\n",
    "corps_b = []\n",
    "for tupl in sts_dataset['test']['data']:\n",
    "    corps_a.append(tupl[0])\n",
    "    corps_b.append(tupl[1])\n",
    "rep_a = sentence_representations(corps_a, sts_voc, SVDEmbeddings_pmi)\n",
    "rep_b = sentence_representations(corps_b, sts_voc, SVDEmbeddings_pmi)\n",
    "\n",
    "X_test = []\n",
    "for i in range(len(corps_a)):\n",
    "    cos_dist = cosine(rep_a[i], rep_b[i])\n",
    "    X_test.append(cos_dist)\n",
    "y_test = []\n",
    "for label in sts_dataset['test']['scores']:\n",
    "    y_test.append(label)\n",
    "\n",
    "\n",
    "X_train = np.asarray(X_train).reshape(-1, 1)\n",
    "y_train = np.asarray(y_train).reshape(-1, 1)\n",
    "print(X_train.shape)\n",
    "print(y_train.shape)\n",
    "X_test = np.asarray(X_test).reshape(-1, 1)\n",
    "y_test = np.asarray(y_test).reshape(-1, 1)\n",
    "print(X_test.shape)\n",
    "print(y_test.shape)\n",
    "\n",
    "\n",
    "lr = LinearRegression()\n",
    "lr.fit(X_train, y_train)\n",
    "preds = lr.predict(X_test)\n",
    "\n",
    "print(spearmanr(preds, y_test))"
   ]
  },
  {
   "cell_type": "code",
   "execution_count": 66,
   "metadata": {},
   "outputs": [
    {
     "name": "stdout",
     "output_type": "stream",
     "text": [
      "(5749, 1)\n",
      "(5749, 1)\n",
      "(1379, 1)\n",
      "(1379, 1)\n",
      "SignificanceResult(statistic=0.44920794001518977, pvalue=1.9373655546337143e-69)\n"
     ]
    }
   ],
   "source": [
    "# And lastly, with Glove vectors\n",
    "GloveEmbeddings_sts = get_glove_adapted_embeddings(loaded_glove_model, sts_voc)\n",
    "\n",
    "corps_a = []\n",
    "corps_b = []\n",
    "for tupl in sts_dataset['train']['data']:\n",
    "    corps_a.append(tupl[0])\n",
    "    corps_b.append(tupl[1])\n",
    "rep_a = sentence_representations(corps_a, sts_voc, GloveEmbeddings_sts)\n",
    "rep_b = sentence_representations(corps_b, sts_voc, GloveEmbeddings_sts)\n",
    "\n",
    "X_train = []\n",
    "for i in range(len(corps_a)):\n",
    "    cos_dist = cosine(rep_a[i], rep_b[i])\n",
    "    X_train.append(cos_dist)\n",
    "y_train = []\n",
    "for label in sts_dataset['train']['scores']:\n",
    "    y_train.append(label)\n",
    "\n",
    "### TEST\n",
    "corps_a = []\n",
    "corps_b = []\n",
    "for tupl in sts_dataset['test']['data']:\n",
    "    corps_a.append(tupl[0])\n",
    "    corps_b.append(tupl[1])\n",
    "rep_a = sentence_representations(corps_a, sts_voc, GloveEmbeddings_sts)\n",
    "rep_b = sentence_representations(corps_b, sts_voc, GloveEmbeddings_sts)\n",
    "\n",
    "X_test = []\n",
    "for i in range(len(corps_a)):\n",
    "    cos_dist = cosine(rep_a[i], rep_b[i])\n",
    "    X_test.append(cos_dist)\n",
    "y_test = []\n",
    "for label in sts_dataset['test']['scores']:\n",
    "    y_test.append(label)\n",
    "\n",
    "\n",
    "X_train = np.asarray(X_train).reshape(-1, 1)\n",
    "y_train = np.asarray(y_train).reshape(-1, 1)\n",
    "print(X_train.shape)\n",
    "print(y_train.shape)\n",
    "X_test = np.asarray(X_test).reshape(-1, 1)\n",
    "y_test = np.asarray(y_test).reshape(-1, 1)\n",
    "print(X_test.shape)\n",
    "print(y_test.shape)\n",
    "\n",
    "\n",
    "lr = LinearRegression()\n",
    "lr.fit(X_train, y_train)\n",
    "preds = lr.predict(X_test)\n",
    "\n",
    "print(spearmanr(preds, y_test))"
   ]
  },
  {
   "attachments": {},
   "cell_type": "markdown",
   "metadata": {},
   "source": [
    "According to spearman correlation results, we can verify that Glove embeddings performs well and better than the other methods.\n",
    "Its statistic value 0.44 is the closest to 1."
   ]
  }
 ],
 "metadata": {
  "kernelspec": {
   "display_name": "Python 3 (ipykernel)",
   "language": "python",
   "name": "python3"
  },
  "language_info": {
   "codemirror_mode": {
    "name": "ipython",
    "version": 3
   },
   "file_extension": ".py",
   "mimetype": "text/x-python",
   "name": "python",
   "nbconvert_exporter": "python",
   "pygments_lexer": "ipython3",
   "version": "3.9.7"
  }
 },
 "nbformat": 4,
 "nbformat_minor": 2
}
